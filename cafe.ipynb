{
 "cells": [
  {
   "cell_type": "code",
   "execution_count": 8,
   "id": "6491673b-3f52-4e4c-bab8-e7a85e169866",
   "metadata": {},
   "outputs": [],
   "source": [
    "# Imports the pandas library\n",
    "import pandas as pd"
   ]
  },
  {
   "cell_type": "code",
   "execution_count": 10,
   "id": "7865a507-0b65-4307-b4bd-becd05276760",
   "metadata": {},
   "outputs": [],
   "source": [
    "# Loads the cafe dataset from a CSV file into a DataFrame\n",
    "cafe = pd.read_csv(r\"C:\\Users\\rafae\\OneDrive\\Desktop\\cafe2.csv\")"
   ]
  },
  {
   "cell_type": "code",
   "execution_count": 747,
   "id": "7abd7fb7-3002-4df9-83ea-009594539c97",
   "metadata": {},
   "outputs": [
    {
     "data": {
      "text/html": [
       "<div>\n",
       "<style scoped>\n",
       "    .dataframe tbody tr th:only-of-type {\n",
       "        vertical-align: middle;\n",
       "    }\n",
       "\n",
       "    .dataframe tbody tr th {\n",
       "        vertical-align: top;\n",
       "    }\n",
       "\n",
       "    .dataframe thead th {\n",
       "        text-align: right;\n",
       "    }\n",
       "</style>\n",
       "<table border=\"1\" class=\"dataframe\">\n",
       "  <thead>\n",
       "    <tr style=\"text-align: right;\">\n",
       "      <th></th>\n",
       "      <th>Transaction ID</th>\n",
       "      <th>Item</th>\n",
       "      <th>Quantity</th>\n",
       "      <th>Price Per Unit</th>\n",
       "      <th>Total Spent</th>\n",
       "      <th>Payment Method</th>\n",
       "      <th>Location</th>\n",
       "      <th>Transaction Date</th>\n",
       "    </tr>\n",
       "  </thead>\n",
       "  <tbody>\n",
       "    <tr>\n",
       "      <th>0</th>\n",
       "      <td>TXN_1961373</td>\n",
       "      <td>Coffee</td>\n",
       "      <td>2</td>\n",
       "      <td>2</td>\n",
       "      <td>4</td>\n",
       "      <td>Credit Card</td>\n",
       "      <td>Takeaway</td>\n",
       "      <td>9/8/2023</td>\n",
       "    </tr>\n",
       "    <tr>\n",
       "      <th>1</th>\n",
       "      <td>TXN_4977031</td>\n",
       "      <td>Cake</td>\n",
       "      <td>4</td>\n",
       "      <td>3</td>\n",
       "      <td>12</td>\n",
       "      <td>Cash</td>\n",
       "      <td>In-store</td>\n",
       "      <td>5/16/2023</td>\n",
       "    </tr>\n",
       "    <tr>\n",
       "      <th>2</th>\n",
       "      <td>TXN_4271903</td>\n",
       "      <td>Cookie</td>\n",
       "      <td>4</td>\n",
       "      <td>1</td>\n",
       "      <td>ERROR</td>\n",
       "      <td>Credit Card</td>\n",
       "      <td>In-store</td>\n",
       "      <td>7/19/2023</td>\n",
       "    </tr>\n",
       "    <tr>\n",
       "      <th>3</th>\n",
       "      <td>TXN_7034554</td>\n",
       "      <td>Salad</td>\n",
       "      <td>2</td>\n",
       "      <td>5</td>\n",
       "      <td>10</td>\n",
       "      <td>UNKNOWN</td>\n",
       "      <td>UNKNOWN</td>\n",
       "      <td>4/27/2023</td>\n",
       "    </tr>\n",
       "    <tr>\n",
       "      <th>4</th>\n",
       "      <td>TXN_3160411</td>\n",
       "      <td>Coffee</td>\n",
       "      <td>2</td>\n",
       "      <td>2</td>\n",
       "      <td>4</td>\n",
       "      <td>Digital Wallet</td>\n",
       "      <td>In-store</td>\n",
       "      <td>6/11/2023</td>\n",
       "    </tr>\n",
       "    <tr>\n",
       "      <th>...</th>\n",
       "      <td>...</td>\n",
       "      <td>...</td>\n",
       "      <td>...</td>\n",
       "      <td>...</td>\n",
       "      <td>...</td>\n",
       "      <td>...</td>\n",
       "      <td>...</td>\n",
       "      <td>...</td>\n",
       "    </tr>\n",
       "    <tr>\n",
       "      <th>9995</th>\n",
       "      <td>TXN_7672686</td>\n",
       "      <td>Coffee</td>\n",
       "      <td>2</td>\n",
       "      <td>2</td>\n",
       "      <td>4</td>\n",
       "      <td>NaN</td>\n",
       "      <td>UNKNOWN</td>\n",
       "      <td>8/30/2023</td>\n",
       "    </tr>\n",
       "    <tr>\n",
       "      <th>9996</th>\n",
       "      <td>TXN_9659401</td>\n",
       "      <td>NaN</td>\n",
       "      <td>3</td>\n",
       "      <td>NaN</td>\n",
       "      <td>3</td>\n",
       "      <td>Digital Wallet</td>\n",
       "      <td>NaN</td>\n",
       "      <td>6/2/2023</td>\n",
       "    </tr>\n",
       "    <tr>\n",
       "      <th>9997</th>\n",
       "      <td>TXN_5255387</td>\n",
       "      <td>Coffee</td>\n",
       "      <td>4</td>\n",
       "      <td>2</td>\n",
       "      <td>8</td>\n",
       "      <td>Digital Wallet</td>\n",
       "      <td>NaN</td>\n",
       "      <td>3/2/2023</td>\n",
       "    </tr>\n",
       "    <tr>\n",
       "      <th>9998</th>\n",
       "      <td>TXN_7695629</td>\n",
       "      <td>Cookie</td>\n",
       "      <td>3</td>\n",
       "      <td>NaN</td>\n",
       "      <td>3</td>\n",
       "      <td>Digital Wallet</td>\n",
       "      <td>NaN</td>\n",
       "      <td>12/2/2023</td>\n",
       "    </tr>\n",
       "    <tr>\n",
       "      <th>9999</th>\n",
       "      <td>TXN_6170729</td>\n",
       "      <td>Sandwich</td>\n",
       "      <td>3</td>\n",
       "      <td>4</td>\n",
       "      <td>12</td>\n",
       "      <td>Cash</td>\n",
       "      <td>In-store</td>\n",
       "      <td>11/7/2023</td>\n",
       "    </tr>\n",
       "  </tbody>\n",
       "</table>\n",
       "<p>10000 rows × 8 columns</p>\n",
       "</div>"
      ],
      "text/plain": [
       "     Transaction ID      Item Quantity Price Per Unit Total Spent  \\\n",
       "0       TXN_1961373    Coffee        2              2           4   \n",
       "1       TXN_4977031      Cake        4              3          12   \n",
       "2       TXN_4271903    Cookie        4              1       ERROR   \n",
       "3       TXN_7034554     Salad        2              5          10   \n",
       "4       TXN_3160411    Coffee        2              2           4   \n",
       "...             ...       ...      ...            ...         ...   \n",
       "9995    TXN_7672686    Coffee        2              2           4   \n",
       "9996    TXN_9659401       NaN        3            NaN           3   \n",
       "9997    TXN_5255387    Coffee        4              2           8   \n",
       "9998    TXN_7695629    Cookie        3            NaN           3   \n",
       "9999    TXN_6170729  Sandwich        3              4          12   \n",
       "\n",
       "      Payment Method  Location Transaction Date  \n",
       "0        Credit Card  Takeaway         9/8/2023  \n",
       "1               Cash  In-store        5/16/2023  \n",
       "2        Credit Card  In-store        7/19/2023  \n",
       "3            UNKNOWN   UNKNOWN        4/27/2023  \n",
       "4     Digital Wallet  In-store        6/11/2023  \n",
       "...              ...       ...              ...  \n",
       "9995             NaN   UNKNOWN        8/30/2023  \n",
       "9996  Digital Wallet       NaN         6/2/2023  \n",
       "9997  Digital Wallet       NaN         3/2/2023  \n",
       "9998  Digital Wallet       NaN        12/2/2023  \n",
       "9999            Cash  In-store        11/7/2023  \n",
       "\n",
       "[10000 rows x 8 columns]"
      ]
     },
     "execution_count": 747,
     "metadata": {},
     "output_type": "execute_result"
    }
   ],
   "source": [
    "# Displays the DataFrame\n",
    "cafe"
   ]
  },
  {
   "cell_type": "code",
   "execution_count": 749,
   "id": "3909124b-71a6-4c0f-90a5-b5a31a957260",
   "metadata": {},
   "outputs": [
    {
     "name": "stdout",
     "output_type": "stream",
     "text": [
      "<class 'pandas.core.frame.DataFrame'>\n",
      "RangeIndex: 10000 entries, 0 to 9999\n",
      "Data columns (total 8 columns):\n",
      " #   Column            Non-Null Count  Dtype \n",
      "---  ------            --------------  ----- \n",
      " 0   Transaction ID    10000 non-null  object\n",
      " 1   Item              9667 non-null   object\n",
      " 2   Quantity          9862 non-null   object\n",
      " 3   Price Per Unit    9821 non-null   object\n",
      " 4   Total Spent       9827 non-null   object\n",
      " 5   Payment Method    7421 non-null   object\n",
      " 6   Location          6735 non-null   object\n",
      " 7   Transaction Date  9841 non-null   object\n",
      "dtypes: object(8)\n",
      "memory usage: 625.1+ KB\n"
     ]
    }
   ],
   "source": [
    "# Provides a summary of the DataFrame\n",
    "cafe.info()"
   ]
  },
  {
   "cell_type": "code",
   "execution_count": 751,
   "id": "0a53e023-71bb-46af-9dde-b3abff68ea55",
   "metadata": {},
   "outputs": [],
   "source": [
    "# Converts columns from object (character) to numeric format\n",
    "cafe[['Quantity', 'Price Per Unit', 'Total Spent']] = cafe[['Quantity', 'Price Per Unit', \n",
    "                                                            'Total Spent']].apply(pd.to_numeric, errors='coerce')"
   ]
  },
  {
   "cell_type": "code",
   "execution_count": 503,
   "id": "4fe79555-ddd2-4370-b0ee-7e2b35e3b0c0",
   "metadata": {},
   "outputs": [
    {
     "data": {
      "text/plain": [
       "Transaction ID       object\n",
       "Item                 object\n",
       "Quantity            float64\n",
       "Price Per Unit      float64\n",
       "Total Spent         float64\n",
       "Payment Method       object\n",
       "Location             object\n",
       "Transaction Date     object\n",
       "dtype: object"
      ]
     },
     "execution_count": 503,
     "metadata": {},
     "output_type": "execute_result"
    }
   ],
   "source": [
    "# Displays the data types of each column\n",
    "cafe.dtypes"
   ]
  },
  {
   "cell_type": "code",
   "execution_count": 753,
   "id": "9b20e526-2ef9-482c-91ee-9b9176664172",
   "metadata": {},
   "outputs": [
    {
     "data": {
      "text/plain": [
       "array(['Coffee', 'Cake', 'Cookie', 'Salad', 'Smoothie', 'UNKNOWN',\n",
       "       'Sandwich', nan, 'ERROR', 'Juice', 'Tea'], dtype=object)"
      ]
     },
     "execution_count": 753,
     "metadata": {},
     "output_type": "execute_result"
    }
   ],
   "source": [
    "# Retrieves a list of the unique values from the 'Item' column\n",
    "cafe['Item'].unique()"
   ]
  },
  {
   "cell_type": "markdown",
   "id": "4e7aa2df-2799-404d-b62e-80bcdbc9f905",
   "metadata": {},
   "source": [
    "### CLEANING AND REFINING THE COLUMN 'Item'"
   ]
  },
  {
   "cell_type": "code",
   "execution_count": null,
   "id": "721ada2c-9751-4b93-9225-93f98ba4f633",
   "metadata": {},
   "outputs": [],
   "source": [
    "# The column 'Item' contains placeholder values: 'UNKNOWN', 'ERROR', and 'NaN', which must be replaced or the corresponding rows removed\n",
    "# for proper cleaning"
   ]
  },
  {
   "cell_type": "code",
   "execution_count": 755,
   "id": "2cdaa0a1-4586-49da-95c5-58633b4c814b",
   "metadata": {},
   "outputs": [
    {
     "data": {
      "text/plain": [
       "344"
      ]
     },
     "execution_count": 755,
     "metadata": {},
     "output_type": "execute_result"
    }
   ],
   "source": [
    "# Counts the occurences of the value 'UNKNOWN' in the 'Item' column \n",
    "cafe[cafe['Item'] == 'UNKNOWN'].shape[0]"
   ]
  },
  {
   "cell_type": "code",
   "execution_count": 757,
   "id": "2039801e-7517-49a1-9136-8e0b8c80d826",
   "metadata": {},
   "outputs": [],
   "source": [
    "# Replaces the generic 'UNKNOWN' label with the specific item based on pricing patterns\n",
    "def clean_item(row):\n",
    "    if row['Item'] == 'UNKNOWN' and row['Price Per Unit'] == 1:\n",
    "        return 'Cookie'\n",
    "    elif row['Item'] == 'UNKNOWN' and row['Price Per Unit'] == 1.5:\n",
    "        return 'Tea'\n",
    "    elif row['Item'] == 'UNKNOWN' and row['Price Per Unit'] == 2:\n",
    "        return 'Coffee'\n",
    "    elif row['Item'] == 'UNKNOWN' and row['Price Per Unit'] == 3:\n",
    "        return 'Cake or Juice'\n",
    "    elif row['Item'] == 'UNKNOWN' and row['Price Per Unit'] == 4:\n",
    "        return 'Sandwich or Smoothie'\n",
    "    elif row['Item'] == 'UNKNOWN' and row['Price Per Unit'] == 5:\n",
    "        return 'Salad'\n",
    "    return row['Item']"
   ]
  },
  {
   "cell_type": "code",
   "execution_count": 759,
   "id": "a5c7b48c-e9e5-4f68-bd08-7d57dcefcccd",
   "metadata": {},
   "outputs": [],
   "source": [
    "# Uses the custom function to update the 'Item' column, replacing 'Unknown' with the appropriate item name\n",
    "cafe['Item'] = cafe.apply(clean_item, axis=1)"
   ]
  },
  {
   "cell_type": "code",
   "execution_count": 761,
   "id": "0538403d-b0ad-4ab1-af16-1bf215dbe297",
   "metadata": {},
   "outputs": [
    {
     "data": {
      "text/plain": [
       "18"
      ]
     },
     "execution_count": 761,
     "metadata": {},
     "output_type": "execute_result"
    }
   ],
   "source": [
    "# Counts the occurences of the value 'UNKNOWN' in the 'Item' column \n",
    "cafe[cafe['Item'] == 'UNKNOWN'].shape[0]"
   ]
  },
  {
   "cell_type": "code",
   "execution_count": 763,
   "id": "f427b588-40b8-4e38-9429-76dfff79c8f1",
   "metadata": {},
   "outputs": [],
   "source": [
    "# Calculates missing 'Price Per Unit' values by dividing 'Total Spent' by 'Quantity'\n",
    "cafe['Price Per Unit'] = cafe['Price Per Unit'].fillna(cafe['Total Spent'] / cafe['Quantity'])"
   ]
  },
  {
   "cell_type": "code",
   "execution_count": 765,
   "id": "68169441-19f3-4a9d-933a-4caabb6e12df",
   "metadata": {},
   "outputs": [],
   "source": [
    "# Uses the custom function to update the 'Item' column, replacing 'Unknown' with the appropriate item name\n",
    "cafe['Item'] = cafe.apply(clean_item, axis=1)"
   ]
  },
  {
   "cell_type": "code",
   "execution_count": 767,
   "id": "ce6221d6-6950-446f-b5dc-b30d4bfbfc38",
   "metadata": {},
   "outputs": [
    {
     "data": {
      "text/plain": [
       "2"
      ]
     },
     "execution_count": 767,
     "metadata": {},
     "output_type": "execute_result"
    }
   ],
   "source": [
    "# Counts the occurences of the value 'UNKNOWN' in the 'Item' column \n",
    "cafe[cafe['Item'] == 'UNKNOWN'].shape[0]"
   ]
  },
  {
   "cell_type": "code",
   "execution_count": 769,
   "id": "a8fdcc82-0321-43c7-acbb-f6ca00956820",
   "metadata": {},
   "outputs": [
    {
     "data": {
      "text/html": [
       "<div>\n",
       "<style scoped>\n",
       "    .dataframe tbody tr th:only-of-type {\n",
       "        vertical-align: middle;\n",
       "    }\n",
       "\n",
       "    .dataframe tbody tr th {\n",
       "        vertical-align: top;\n",
       "    }\n",
       "\n",
       "    .dataframe thead th {\n",
       "        text-align: right;\n",
       "    }\n",
       "</style>\n",
       "<table border=\"1\" class=\"dataframe\">\n",
       "  <thead>\n",
       "    <tr style=\"text-align: right;\">\n",
       "      <th></th>\n",
       "      <th>Transaction ID</th>\n",
       "      <th>Item</th>\n",
       "      <th>Quantity</th>\n",
       "      <th>Price Per Unit</th>\n",
       "      <th>Total Spent</th>\n",
       "      <th>Payment Method</th>\n",
       "      <th>Location</th>\n",
       "      <th>Transaction Date</th>\n",
       "    </tr>\n",
       "  </thead>\n",
       "  <tbody>\n",
       "    <tr>\n",
       "      <th>2289</th>\n",
       "      <td>TXN_7524977</td>\n",
       "      <td>UNKNOWN</td>\n",
       "      <td>4.0</td>\n",
       "      <td>NaN</td>\n",
       "      <td>NaN</td>\n",
       "      <td>ERROR</td>\n",
       "      <td>NaN</td>\n",
       "      <td>12/9/2023</td>\n",
       "    </tr>\n",
       "    <tr>\n",
       "      <th>3779</th>\n",
       "      <td>TXN_7376255</td>\n",
       "      <td>UNKNOWN</td>\n",
       "      <td>NaN</td>\n",
       "      <td>NaN</td>\n",
       "      <td>25.0</td>\n",
       "      <td>NaN</td>\n",
       "      <td>In-store</td>\n",
       "      <td>5/27/2023</td>\n",
       "    </tr>\n",
       "  </tbody>\n",
       "</table>\n",
       "</div>"
      ],
      "text/plain": [
       "     Transaction ID     Item  Quantity  Price Per Unit  Total Spent  \\\n",
       "2289    TXN_7524977  UNKNOWN       4.0             NaN          NaN   \n",
       "3779    TXN_7376255  UNKNOWN       NaN             NaN         25.0   \n",
       "\n",
       "     Payment Method  Location Transaction Date  \n",
       "2289          ERROR       NaN        12/9/2023  \n",
       "3779            NaN  In-store        5/27/2023  "
      ]
     },
     "execution_count": 769,
     "metadata": {},
     "output_type": "execute_result"
    }
   ],
   "source": [
    "# Filters the DataFrame to identify rows where 'Item' is labeled as 'UNKNOWN' \n",
    "cafe[cafe['Item'] == 'UNKNOWN']"
   ]
  },
  {
   "cell_type": "code",
   "execution_count": 771,
   "id": "649a9051-529d-47f7-a100-cd772a096892",
   "metadata": {},
   "outputs": [
    {
     "data": {
      "text/plain": [
       "292"
      ]
     },
     "execution_count": 771,
     "metadata": {},
     "output_type": "execute_result"
    }
   ],
   "source": [
    "# Counts the occurences of the value 'ERROR' in the 'Item' column \n",
    "cafe[cafe['Item'] == 'ERROR'].shape[0]"
   ]
  },
  {
   "cell_type": "code",
   "execution_count": 773,
   "id": "a62ff200-7168-486c-9a04-b58321f1b81f",
   "metadata": {},
   "outputs": [],
   "source": [
    "# Replaces the generic 'ERROR' label with the specific item based on pricing patterns\n",
    "def clean_item2(row):\n",
    "    if row['Item'] == 'ERROR' and row['Price Per Unit'] == 1:\n",
    "        return 'Cookie'\n",
    "    elif row['Item'] == 'ERROR' and row['Price Per Unit'] == 1.5:\n",
    "        return 'Tea'\n",
    "    elif row['Item'] == 'ERROR' and row['Price Per Unit'] == 2:\n",
    "        return 'Coffee'\n",
    "    elif row['Item'] == 'ERROR' and row['Price Per Unit'] == 3:\n",
    "        return 'Cake or Juice'\n",
    "    elif row['Item'] == 'ERROR' and row['Price Per Unit'] == 4:\n",
    "        return 'Sandwich or Smoothie'\n",
    "    elif row['Item'] == 'ERROR' and row['Price Per Unit'] == 5:\n",
    "        return 'Salad'\n",
    "    return row['Item']"
   ]
  },
  {
   "cell_type": "code",
   "execution_count": 775,
   "id": "1c304cb3-e60a-4038-8526-0c93bb23a537",
   "metadata": {},
   "outputs": [],
   "source": [
    "# Uses the custom function to update the 'Item' column, replacing 'ERROR' with the appropriate item name\n",
    "cafe['Item'] = cafe.apply(clean_item2, axis=1)"
   ]
  },
  {
   "cell_type": "code",
   "execution_count": 777,
   "id": "b4789b7e-8556-48b3-bf81-3f24ae300569",
   "metadata": {},
   "outputs": [
    {
     "data": {
      "text/plain": [
       "2"
      ]
     },
     "execution_count": 777,
     "metadata": {},
     "output_type": "execute_result"
    }
   ],
   "source": [
    "# Counts the occurences of the value 'ERROR' in the 'Item' column \n",
    "cafe[cafe['Item'] == 'ERROR'].shape[0]"
   ]
  },
  {
   "cell_type": "code",
   "execution_count": 779,
   "id": "0a1c0ebb-ca67-4cff-8136-3c5b08a53d5c",
   "metadata": {},
   "outputs": [
    {
     "data": {
      "text/html": [
       "<div>\n",
       "<style scoped>\n",
       "    .dataframe tbody tr th:only-of-type {\n",
       "        vertical-align: middle;\n",
       "    }\n",
       "\n",
       "    .dataframe tbody tr th {\n",
       "        vertical-align: top;\n",
       "    }\n",
       "\n",
       "    .dataframe thead th {\n",
       "        text-align: right;\n",
       "    }\n",
       "</style>\n",
       "<table border=\"1\" class=\"dataframe\">\n",
       "  <thead>\n",
       "    <tr style=\"text-align: right;\">\n",
       "      <th></th>\n",
       "      <th>Transaction ID</th>\n",
       "      <th>Item</th>\n",
       "      <th>Quantity</th>\n",
       "      <th>Price Per Unit</th>\n",
       "      <th>Total Spent</th>\n",
       "      <th>Payment Method</th>\n",
       "      <th>Location</th>\n",
       "      <th>Transaction Date</th>\n",
       "    </tr>\n",
       "  </thead>\n",
       "  <tbody>\n",
       "    <tr>\n",
       "      <th>4152</th>\n",
       "      <td>TXN_9646000</td>\n",
       "      <td>ERROR</td>\n",
       "      <td>2.0</td>\n",
       "      <td>NaN</td>\n",
       "      <td>NaN</td>\n",
       "      <td>NaN</td>\n",
       "      <td>In-store</td>\n",
       "      <td>12/14/2023</td>\n",
       "    </tr>\n",
       "    <tr>\n",
       "      <th>7597</th>\n",
       "      <td>TXN_1082717</td>\n",
       "      <td>ERROR</td>\n",
       "      <td>NaN</td>\n",
       "      <td>NaN</td>\n",
       "      <td>9.0</td>\n",
       "      <td>Digital Wallet</td>\n",
       "      <td>In-store</td>\n",
       "      <td>12/13/2023</td>\n",
       "    </tr>\n",
       "  </tbody>\n",
       "</table>\n",
       "</div>"
      ],
      "text/plain": [
       "     Transaction ID   Item  Quantity  Price Per Unit  Total Spent  \\\n",
       "4152    TXN_9646000  ERROR       2.0             NaN          NaN   \n",
       "7597    TXN_1082717  ERROR       NaN             NaN          9.0   \n",
       "\n",
       "      Payment Method  Location Transaction Date  \n",
       "4152             NaN  In-store       12/14/2023  \n",
       "7597  Digital Wallet  In-store       12/13/2023  "
      ]
     },
     "execution_count": 779,
     "metadata": {},
     "output_type": "execute_result"
    }
   ],
   "source": [
    "# Filters the DataFrame to identify rows where 'Item' is labeled as 'ERROR'  \n",
    "cafe[cafe['Item'] == 'ERROR']"
   ]
  },
  {
   "cell_type": "code",
   "execution_count": 781,
   "id": "da23a2ac-7b36-4911-87ba-d48d5f33e118",
   "metadata": {},
   "outputs": [
    {
     "data": {
      "text/plain": [
       "333"
      ]
     },
     "execution_count": 781,
     "metadata": {},
     "output_type": "execute_result"
    }
   ],
   "source": [
    "# Counts the total number of 'NaN' values in the 'Item' column \n",
    "cafe[cafe['Item'].isna()].shape[0]"
   ]
  },
  {
   "cell_type": "code",
   "execution_count": 783,
   "id": "4b96db68-f9f9-4ab2-a705-6d9596e960b8",
   "metadata": {},
   "outputs": [],
   "source": [
    "# Replaces the generic 'NaN' label with the specific item based on pricing patterns\n",
    "def clean_item3(row):\n",
    "    if pd.isna(row['Item']) and row['Price Per Unit'] == 1:\n",
    "        return 'Cookie'\n",
    "    elif pd.isna(row['Item']) and row['Price Per Unit'] == 1.5:\n",
    "        return 'Tea'\n",
    "    elif pd.isna(row['Item']) and row['Price Per Unit'] == 2:\n",
    "        return 'Coffee'\n",
    "    elif pd. isna(row['Item']) and row['Price Per Unit'] == 3:\n",
    "        return 'Cake or Juice'\n",
    "    elif pd.isna(row['Item']) and row['Price Per Unit'] == 4:\n",
    "        return 'Sandwich or Smoothie'\n",
    "    elif pd.isna(row['Item']) and row['Price Per Unit'] == 5:\n",
    "        return 'Salad'\n",
    "    return row['Item']"
   ]
  },
  {
   "cell_type": "code",
   "execution_count": 785,
   "id": "462d902c-d29f-4540-9c95-2e2b3d14d21d",
   "metadata": {},
   "outputs": [],
   "source": [
    "# Uses the custom function to update the 'Item' column, replacing 'NaN' with the appropriate item name\n",
    "cafe['Item'] = cafe.apply(clean_item3, axis=1)"
   ]
  },
  {
   "cell_type": "code",
   "execution_count": 787,
   "id": "07304c6a-b58f-4469-b9db-05f4d867af46",
   "metadata": {},
   "outputs": [
    {
     "data": {
      "text/plain": [
       "2"
      ]
     },
     "execution_count": 787,
     "metadata": {},
     "output_type": "execute_result"
    }
   ],
   "source": [
    "# Counts the total number of missing 'NaN' values in the 'Item' column \n",
    "cafe[cafe['Item'].isna()].shape[0]"
   ]
  },
  {
   "cell_type": "code",
   "execution_count": 789,
   "id": "6c0bdf89-bcc8-42a1-8e3c-8e51a5d77128",
   "metadata": {},
   "outputs": [
    {
     "data": {
      "text/html": [
       "<div>\n",
       "<style scoped>\n",
       "    .dataframe tbody tr th:only-of-type {\n",
       "        vertical-align: middle;\n",
       "    }\n",
       "\n",
       "    .dataframe tbody tr th {\n",
       "        vertical-align: top;\n",
       "    }\n",
       "\n",
       "    .dataframe thead th {\n",
       "        text-align: right;\n",
       "    }\n",
       "</style>\n",
       "<table border=\"1\" class=\"dataframe\">\n",
       "  <thead>\n",
       "    <tr style=\"text-align: right;\">\n",
       "      <th></th>\n",
       "      <th>Transaction ID</th>\n",
       "      <th>Item</th>\n",
       "      <th>Quantity</th>\n",
       "      <th>Price Per Unit</th>\n",
       "      <th>Total Spent</th>\n",
       "      <th>Payment Method</th>\n",
       "      <th>Location</th>\n",
       "      <th>Transaction Date</th>\n",
       "    </tr>\n",
       "  </thead>\n",
       "  <tbody>\n",
       "    <tr>\n",
       "      <th>1761</th>\n",
       "      <td>TXN_3611851</td>\n",
       "      <td>NaN</td>\n",
       "      <td>4.0</td>\n",
       "      <td>NaN</td>\n",
       "      <td>NaN</td>\n",
       "      <td>Credit Card</td>\n",
       "      <td>NaN</td>\n",
       "      <td>2/9/2023</td>\n",
       "    </tr>\n",
       "    <tr>\n",
       "      <th>9819</th>\n",
       "      <td>TXN_1208561</td>\n",
       "      <td>NaN</td>\n",
       "      <td>NaN</td>\n",
       "      <td>NaN</td>\n",
       "      <td>20.0</td>\n",
       "      <td>Credit Card</td>\n",
       "      <td>NaN</td>\n",
       "      <td>8/19/2023</td>\n",
       "    </tr>\n",
       "  </tbody>\n",
       "</table>\n",
       "</div>"
      ],
      "text/plain": [
       "     Transaction ID Item  Quantity  Price Per Unit  Total Spent  \\\n",
       "1761    TXN_3611851  NaN       4.0             NaN          NaN   \n",
       "9819    TXN_1208561  NaN       NaN             NaN         20.0   \n",
       "\n",
       "     Payment Method Location Transaction Date  \n",
       "1761    Credit Card      NaN         2/9/2023  \n",
       "9819    Credit Card      NaN        8/19/2023  "
      ]
     },
     "execution_count": 789,
     "metadata": {},
     "output_type": "execute_result"
    }
   ],
   "source": [
    "# Filters the DataFrame to identify rows where 'Item' is labeled as 'NaN' \n",
    "cafe[cafe['Item'].isna()]"
   ]
  },
  {
   "cell_type": "code",
   "execution_count": 791,
   "id": "832bb0a1-1065-4b9b-bb34-77697a8f76c0",
   "metadata": {},
   "outputs": [],
   "source": [
    "# Standardizes item names by filling missing values, replacing 'ERROR', and ensuring consistent title case formatting\n",
    "cafe['Item'] = cafe['Item'].fillna('UNKNOWN').replace('ERROR', 'UNKNOWN').str.title()"
   ]
  },
  {
   "cell_type": "code",
   "execution_count": 793,
   "id": "c28ee1e2-8fe8-4bfe-93a0-d710c64676f4",
   "metadata": {},
   "outputs": [
    {
     "data": {
      "text/plain": [
       "array(['Coffee', 'Cake', 'Cookie', 'Salad', 'Smoothie', 'Cake Or Juice',\n",
       "       'Sandwich', 'Tea', 'Juice', 'Sandwich Or Smoothie', 'Unknown'],\n",
       "      dtype=object)"
      ]
     },
     "execution_count": 793,
     "metadata": {},
     "output_type": "execute_result"
    }
   ],
   "source": [
    "# Retrieves a list of the unique values from the 'Item' column\n",
    "cafe['Item'].unique()"
   ]
  },
  {
   "cell_type": "code",
   "execution_count": 795,
   "id": "7262f632-9f15-4122-a909-2a0abf006644",
   "metadata": {},
   "outputs": [
    {
     "data": {
      "text/plain": [
       "6"
      ]
     },
     "execution_count": 795,
     "metadata": {},
     "output_type": "execute_result"
    }
   ],
   "source": [
    "# Counts the total number of 'Unknown' values in the 'Item' column \n",
    "cafe[cafe['Item'] == 'Unknown'].shape[0]"
   ]
  },
  {
   "cell_type": "code",
   "execution_count": 797,
   "id": "4d1bac4d-e8b6-4def-b86c-2feab01d5122",
   "metadata": {},
   "outputs": [
    {
     "data": {
      "text/html": [
       "<div>\n",
       "<style scoped>\n",
       "    .dataframe tbody tr th:only-of-type {\n",
       "        vertical-align: middle;\n",
       "    }\n",
       "\n",
       "    .dataframe tbody tr th {\n",
       "        vertical-align: top;\n",
       "    }\n",
       "\n",
       "    .dataframe thead th {\n",
       "        text-align: right;\n",
       "    }\n",
       "</style>\n",
       "<table border=\"1\" class=\"dataframe\">\n",
       "  <thead>\n",
       "    <tr style=\"text-align: right;\">\n",
       "      <th></th>\n",
       "      <th>Transaction ID</th>\n",
       "      <th>Item</th>\n",
       "      <th>Quantity</th>\n",
       "      <th>Price Per Unit</th>\n",
       "      <th>Total Spent</th>\n",
       "      <th>Payment Method</th>\n",
       "      <th>Location</th>\n",
       "      <th>Transaction Date</th>\n",
       "    </tr>\n",
       "  </thead>\n",
       "  <tbody>\n",
       "    <tr>\n",
       "      <th>1761</th>\n",
       "      <td>TXN_3611851</td>\n",
       "      <td>Unknown</td>\n",
       "      <td>4.0</td>\n",
       "      <td>NaN</td>\n",
       "      <td>NaN</td>\n",
       "      <td>Credit Card</td>\n",
       "      <td>NaN</td>\n",
       "      <td>2/9/2023</td>\n",
       "    </tr>\n",
       "    <tr>\n",
       "      <th>2289</th>\n",
       "      <td>TXN_7524977</td>\n",
       "      <td>Unknown</td>\n",
       "      <td>4.0</td>\n",
       "      <td>NaN</td>\n",
       "      <td>NaN</td>\n",
       "      <td>ERROR</td>\n",
       "      <td>NaN</td>\n",
       "      <td>12/9/2023</td>\n",
       "    </tr>\n",
       "    <tr>\n",
       "      <th>3779</th>\n",
       "      <td>TXN_7376255</td>\n",
       "      <td>Unknown</td>\n",
       "      <td>NaN</td>\n",
       "      <td>NaN</td>\n",
       "      <td>25.0</td>\n",
       "      <td>NaN</td>\n",
       "      <td>In-store</td>\n",
       "      <td>5/27/2023</td>\n",
       "    </tr>\n",
       "    <tr>\n",
       "      <th>4152</th>\n",
       "      <td>TXN_9646000</td>\n",
       "      <td>Unknown</td>\n",
       "      <td>2.0</td>\n",
       "      <td>NaN</td>\n",
       "      <td>NaN</td>\n",
       "      <td>NaN</td>\n",
       "      <td>In-store</td>\n",
       "      <td>12/14/2023</td>\n",
       "    </tr>\n",
       "    <tr>\n",
       "      <th>7597</th>\n",
       "      <td>TXN_1082717</td>\n",
       "      <td>Unknown</td>\n",
       "      <td>NaN</td>\n",
       "      <td>NaN</td>\n",
       "      <td>9.0</td>\n",
       "      <td>Digital Wallet</td>\n",
       "      <td>In-store</td>\n",
       "      <td>12/13/2023</td>\n",
       "    </tr>\n",
       "    <tr>\n",
       "      <th>9819</th>\n",
       "      <td>TXN_1208561</td>\n",
       "      <td>Unknown</td>\n",
       "      <td>NaN</td>\n",
       "      <td>NaN</td>\n",
       "      <td>20.0</td>\n",
       "      <td>Credit Card</td>\n",
       "      <td>NaN</td>\n",
       "      <td>8/19/2023</td>\n",
       "    </tr>\n",
       "  </tbody>\n",
       "</table>\n",
       "</div>"
      ],
      "text/plain": [
       "     Transaction ID     Item  Quantity  Price Per Unit  Total Spent  \\\n",
       "1761    TXN_3611851  Unknown       4.0             NaN          NaN   \n",
       "2289    TXN_7524977  Unknown       4.0             NaN          NaN   \n",
       "3779    TXN_7376255  Unknown       NaN             NaN         25.0   \n",
       "4152    TXN_9646000  Unknown       2.0             NaN          NaN   \n",
       "7597    TXN_1082717  Unknown       NaN             NaN          9.0   \n",
       "9819    TXN_1208561  Unknown       NaN             NaN         20.0   \n",
       "\n",
       "      Payment Method  Location Transaction Date  \n",
       "1761     Credit Card       NaN         2/9/2023  \n",
       "2289           ERROR       NaN        12/9/2023  \n",
       "3779             NaN  In-store        5/27/2023  \n",
       "4152             NaN  In-store       12/14/2023  \n",
       "7597  Digital Wallet  In-store       12/13/2023  \n",
       "9819     Credit Card       NaN        8/19/2023  "
      ]
     },
     "execution_count": 797,
     "metadata": {},
     "output_type": "execute_result"
    }
   ],
   "source": [
    "# Filters the DataFrame to identify rows where 'Item' is labeled as 'Unknown'\n",
    "cafe[cafe['Item'] == 'Unknown']\n",
    "\n",
    "# These six rows should be retained until all possible efforts have been made to determine the correct item. Tracing the transaction using\n",
    "# 'Transaction Date' and 'Transaction ID' can help recover accurate item details"
   ]
  },
  {
   "cell_type": "markdown",
   "id": "9b66a113-226d-4fc5-9053-b03366808204",
   "metadata": {},
   "source": [
    "### CLEANING AND REFINING THE COLUMN 'Price Per Unit' "
   ]
  },
  {
   "cell_type": "code",
   "execution_count": 799,
   "id": "51feb884-6755-423c-b1c1-e74312a1aeb9",
   "metadata": {},
   "outputs": [
    {
     "data": {
      "text/plain": [
       "38"
      ]
     },
     "execution_count": 799,
     "metadata": {},
     "output_type": "execute_result"
    }
   ],
   "source": [
    "# Counts the total number of 'NaN' values in the 'Price Per Unit' column \n",
    "cafe[pd.isna(cafe['Price Per Unit'])].shape[0]"
   ]
  },
  {
   "cell_type": "code",
   "execution_count": 801,
   "id": "084ec0a5-2dfd-4559-868a-ac2456355f9f",
   "metadata": {},
   "outputs": [
    {
     "data": {
      "text/html": [
       "<div>\n",
       "<style scoped>\n",
       "    .dataframe tbody tr th:only-of-type {\n",
       "        vertical-align: middle;\n",
       "    }\n",
       "\n",
       "    .dataframe tbody tr th {\n",
       "        vertical-align: top;\n",
       "    }\n",
       "\n",
       "    .dataframe thead th {\n",
       "        text-align: right;\n",
       "    }\n",
       "</style>\n",
       "<table border=\"1\" class=\"dataframe\">\n",
       "  <thead>\n",
       "    <tr style=\"text-align: right;\">\n",
       "      <th></th>\n",
       "      <th>Transaction ID</th>\n",
       "      <th>Item</th>\n",
       "      <th>Quantity</th>\n",
       "      <th>Price Per Unit</th>\n",
       "      <th>Total Spent</th>\n",
       "      <th>Payment Method</th>\n",
       "      <th>Location</th>\n",
       "      <th>Transaction Date</th>\n",
       "    </tr>\n",
       "  </thead>\n",
       "  <tbody>\n",
       "    <tr>\n",
       "      <th>65</th>\n",
       "      <td>TXN_4987129</td>\n",
       "      <td>Sandwich</td>\n",
       "      <td>3.0</td>\n",
       "      <td>NaN</td>\n",
       "      <td>NaN</td>\n",
       "      <td>NaN</td>\n",
       "      <td>In-store</td>\n",
       "      <td>10/20/2023</td>\n",
       "    </tr>\n",
       "    <tr>\n",
       "      <th>629</th>\n",
       "      <td>TXN_9289174</td>\n",
       "      <td>Cake</td>\n",
       "      <td>NaN</td>\n",
       "      <td>NaN</td>\n",
       "      <td>12.0</td>\n",
       "      <td>Digital Wallet</td>\n",
       "      <td>In-store</td>\n",
       "      <td>12/30/2023</td>\n",
       "    </tr>\n",
       "    <tr>\n",
       "      <th>912</th>\n",
       "      <td>TXN_1575608</td>\n",
       "      <td>Sandwich</td>\n",
       "      <td>NaN</td>\n",
       "      <td>NaN</td>\n",
       "      <td>20.0</td>\n",
       "      <td>ERROR</td>\n",
       "      <td>Takeaway</td>\n",
       "      <td>1/5/2023</td>\n",
       "    </tr>\n",
       "    <tr>\n",
       "      <th>1008</th>\n",
       "      <td>TXN_7225428</td>\n",
       "      <td>Tea</td>\n",
       "      <td>NaN</td>\n",
       "      <td>NaN</td>\n",
       "      <td>3.0</td>\n",
       "      <td>Credit Card</td>\n",
       "      <td>Takeaway</td>\n",
       "      <td>3/7/2023</td>\n",
       "    </tr>\n",
       "    <tr>\n",
       "      <th>1436</th>\n",
       "      <td>TXN_7590801</td>\n",
       "      <td>Tea</td>\n",
       "      <td>NaN</td>\n",
       "      <td>NaN</td>\n",
       "      <td>6.0</td>\n",
       "      <td>Cash</td>\n",
       "      <td>Takeaway</td>\n",
       "      <td>ERROR</td>\n",
       "    </tr>\n",
       "  </tbody>\n",
       "</table>\n",
       "</div>"
      ],
      "text/plain": [
       "     Transaction ID      Item  Quantity  Price Per Unit  Total Spent  \\\n",
       "65      TXN_4987129  Sandwich       3.0             NaN          NaN   \n",
       "629     TXN_9289174      Cake       NaN             NaN         12.0   \n",
       "912     TXN_1575608  Sandwich       NaN             NaN         20.0   \n",
       "1008    TXN_7225428       Tea       NaN             NaN          3.0   \n",
       "1436    TXN_7590801       Tea       NaN             NaN          6.0   \n",
       "\n",
       "      Payment Method  Location Transaction Date  \n",
       "65               NaN  In-store       10/20/2023  \n",
       "629   Digital Wallet  In-store       12/30/2023  \n",
       "912            ERROR  Takeaway         1/5/2023  \n",
       "1008     Credit Card  Takeaway         3/7/2023  \n",
       "1436            Cash  Takeaway            ERROR  "
      ]
     },
     "execution_count": 801,
     "metadata": {},
     "output_type": "execute_result"
    }
   ],
   "source": [
    "# Filters the DataFrame to identify rows where 'Price Per Unit' is labeled as 'NaN'\n",
    "cafe[pd.isna(cafe['Price Per Unit'])].head()"
   ]
  },
  {
   "cell_type": "code",
   "execution_count": 803,
   "id": "1bff71b2-df22-4c3e-9170-5198aada52dd",
   "metadata": {},
   "outputs": [],
   "source": [
    "# Replaces the generic 'NaN' label with the correct Price Per Unit based on the associated item\n",
    "def clean_price(row):\n",
    "    if pd.isna(row['Price Per Unit']) and row['Item'] == 'Cookie':\n",
    "        return 1\n",
    "    elif pd.isna(row['Price Per Unit']) and row['Item'] == 'Tea':\n",
    "        return 1.5\n",
    "    elif pd.isna(row['Price Per Unit']) and row['Item'] == 'Coffee':\n",
    "        return 2\n",
    "    elif pd.isna(row['Price Per Unit']) and row['Item'] == 'Cake':\n",
    "        return 3\n",
    "    elif pd.isna(row['Price Per Unit']) and row['Item'] == 'Juice':\n",
    "        return 3\n",
    "    elif pd.isna(row['Price Per Unit']) and row['Item'] == 'Sandwich':\n",
    "        return 4\n",
    "    elif pd.isna(row['Price Per Unit']) and row['Item'] == 'Smoothie':\n",
    "        return 4\n",
    "    elif pd.isna(row['Price Per Unit']) and row['Item'] == 'Salad':\n",
    "        return 5\n",
    "    return row['Price Per Unit']"
   ]
  },
  {
   "cell_type": "code",
   "execution_count": 805,
   "id": "cc03f6d8-9d3f-41c4-8aa8-7d811ca63e8e",
   "metadata": {},
   "outputs": [],
   "source": [
    "# Uses the custom function to update the 'Price Per Unit' column, replacing 'NaN' with the appropriate item name\n",
    "cafe['Price Per Unit'] = cafe.apply(clean_price, axis=1)"
   ]
  },
  {
   "cell_type": "code",
   "execution_count": 807,
   "id": "55ed2316-6046-4b51-ab8b-cf34abdc1d73",
   "metadata": {},
   "outputs": [
    {
     "data": {
      "text/plain": [
       "6"
      ]
     },
     "execution_count": 807,
     "metadata": {},
     "output_type": "execute_result"
    }
   ],
   "source": [
    "# Counts the total number of 'NaN' values in the 'Price Per Unit' column \n",
    "cafe[pd.isna(cafe['Price Per Unit'])].shape[0]"
   ]
  },
  {
   "cell_type": "code",
   "execution_count": 809,
   "id": "e2d1f518-f134-4013-aff7-126c5edf4300",
   "metadata": {},
   "outputs": [
    {
     "data": {
      "text/html": [
       "<div>\n",
       "<style scoped>\n",
       "    .dataframe tbody tr th:only-of-type {\n",
       "        vertical-align: middle;\n",
       "    }\n",
       "\n",
       "    .dataframe tbody tr th {\n",
       "        vertical-align: top;\n",
       "    }\n",
       "\n",
       "    .dataframe thead th {\n",
       "        text-align: right;\n",
       "    }\n",
       "</style>\n",
       "<table border=\"1\" class=\"dataframe\">\n",
       "  <thead>\n",
       "    <tr style=\"text-align: right;\">\n",
       "      <th></th>\n",
       "      <th>Transaction ID</th>\n",
       "      <th>Item</th>\n",
       "      <th>Quantity</th>\n",
       "      <th>Price Per Unit</th>\n",
       "      <th>Total Spent</th>\n",
       "      <th>Payment Method</th>\n",
       "      <th>Location</th>\n",
       "      <th>Transaction Date</th>\n",
       "    </tr>\n",
       "  </thead>\n",
       "  <tbody>\n",
       "    <tr>\n",
       "      <th>1761</th>\n",
       "      <td>TXN_3611851</td>\n",
       "      <td>Unknown</td>\n",
       "      <td>4.0</td>\n",
       "      <td>NaN</td>\n",
       "      <td>NaN</td>\n",
       "      <td>Credit Card</td>\n",
       "      <td>NaN</td>\n",
       "      <td>2/9/2023</td>\n",
       "    </tr>\n",
       "    <tr>\n",
       "      <th>2289</th>\n",
       "      <td>TXN_7524977</td>\n",
       "      <td>Unknown</td>\n",
       "      <td>4.0</td>\n",
       "      <td>NaN</td>\n",
       "      <td>NaN</td>\n",
       "      <td>ERROR</td>\n",
       "      <td>NaN</td>\n",
       "      <td>12/9/2023</td>\n",
       "    </tr>\n",
       "    <tr>\n",
       "      <th>3779</th>\n",
       "      <td>TXN_7376255</td>\n",
       "      <td>Unknown</td>\n",
       "      <td>NaN</td>\n",
       "      <td>NaN</td>\n",
       "      <td>25.0</td>\n",
       "      <td>NaN</td>\n",
       "      <td>In-store</td>\n",
       "      <td>5/27/2023</td>\n",
       "    </tr>\n",
       "    <tr>\n",
       "      <th>4152</th>\n",
       "      <td>TXN_9646000</td>\n",
       "      <td>Unknown</td>\n",
       "      <td>2.0</td>\n",
       "      <td>NaN</td>\n",
       "      <td>NaN</td>\n",
       "      <td>NaN</td>\n",
       "      <td>In-store</td>\n",
       "      <td>12/14/2023</td>\n",
       "    </tr>\n",
       "    <tr>\n",
       "      <th>7597</th>\n",
       "      <td>TXN_1082717</td>\n",
       "      <td>Unknown</td>\n",
       "      <td>NaN</td>\n",
       "      <td>NaN</td>\n",
       "      <td>9.0</td>\n",
       "      <td>Digital Wallet</td>\n",
       "      <td>In-store</td>\n",
       "      <td>12/13/2023</td>\n",
       "    </tr>\n",
       "    <tr>\n",
       "      <th>9819</th>\n",
       "      <td>TXN_1208561</td>\n",
       "      <td>Unknown</td>\n",
       "      <td>NaN</td>\n",
       "      <td>NaN</td>\n",
       "      <td>20.0</td>\n",
       "      <td>Credit Card</td>\n",
       "      <td>NaN</td>\n",
       "      <td>8/19/2023</td>\n",
       "    </tr>\n",
       "  </tbody>\n",
       "</table>\n",
       "</div>"
      ],
      "text/plain": [
       "     Transaction ID     Item  Quantity  Price Per Unit  Total Spent  \\\n",
       "1761    TXN_3611851  Unknown       4.0             NaN          NaN   \n",
       "2289    TXN_7524977  Unknown       4.0             NaN          NaN   \n",
       "3779    TXN_7376255  Unknown       NaN             NaN         25.0   \n",
       "4152    TXN_9646000  Unknown       2.0             NaN          NaN   \n",
       "7597    TXN_1082717  Unknown       NaN             NaN          9.0   \n",
       "9819    TXN_1208561  Unknown       NaN             NaN         20.0   \n",
       "\n",
       "      Payment Method  Location Transaction Date  \n",
       "1761     Credit Card       NaN         2/9/2023  \n",
       "2289           ERROR       NaN        12/9/2023  \n",
       "3779             NaN  In-store        5/27/2023  \n",
       "4152             NaN  In-store       12/14/2023  \n",
       "7597  Digital Wallet  In-store       12/13/2023  \n",
       "9819     Credit Card       NaN        8/19/2023  "
      ]
     },
     "execution_count": 809,
     "metadata": {},
     "output_type": "execute_result"
    }
   ],
   "source": [
    "# Filters the DataFrame to identify rows where the 'Price Per Unit' column contains the value 'NaN'\n",
    "cafe[pd.isna(cafe['Price Per Unit'])]\n",
    "\n",
    "# These six rows correspond to the same entries flagged in the 'Item' colum. As previously noted, they should be traced using \n",
    "# 'Transaction Date' and 'Transaction ID' to recover accurate details before considering removal."
   ]
  },
  {
   "cell_type": "markdown",
   "id": "d308debd-49c7-4dd1-a231-35dd05ef3792",
   "metadata": {},
   "source": [
    "### CLEANING AND REFINING THE COLUMN 'Quantity'"
   ]
  },
  {
   "cell_type": "code",
   "execution_count": 811,
   "id": "a82b5973-38d6-4988-a135-de4ad404e957",
   "metadata": {},
   "outputs": [
    {
     "data": {
      "text/plain": [
       "479"
      ]
     },
     "execution_count": 811,
     "metadata": {},
     "output_type": "execute_result"
    }
   ],
   "source": [
    "# Counts the total number of 'NaN' values in the 'Quantity' column \n",
    "cafe[pd.isna(cafe['Quantity'])].shape[0]"
   ]
  },
  {
   "cell_type": "code",
   "execution_count": 813,
   "id": "d57311e1-748e-49ab-8328-83af16d9c95d",
   "metadata": {},
   "outputs": [
    {
     "data": {
      "text/html": [
       "<div>\n",
       "<style scoped>\n",
       "    .dataframe tbody tr th:only-of-type {\n",
       "        vertical-align: middle;\n",
       "    }\n",
       "\n",
       "    .dataframe tbody tr th {\n",
       "        vertical-align: top;\n",
       "    }\n",
       "\n",
       "    .dataframe thead th {\n",
       "        text-align: right;\n",
       "    }\n",
       "</style>\n",
       "<table border=\"1\" class=\"dataframe\">\n",
       "  <thead>\n",
       "    <tr style=\"text-align: right;\">\n",
       "      <th></th>\n",
       "      <th>Transaction ID</th>\n",
       "      <th>Item</th>\n",
       "      <th>Quantity</th>\n",
       "      <th>Price Per Unit</th>\n",
       "      <th>Total Spent</th>\n",
       "      <th>Payment Method</th>\n",
       "      <th>Location</th>\n",
       "      <th>Transaction Date</th>\n",
       "    </tr>\n",
       "  </thead>\n",
       "  <tbody>\n",
       "    <tr>\n",
       "      <th>20</th>\n",
       "      <td>TXN_3522028</td>\n",
       "      <td>Smoothie</td>\n",
       "      <td>NaN</td>\n",
       "      <td>4.0</td>\n",
       "      <td>20.0</td>\n",
       "      <td>Cash</td>\n",
       "      <td>In-store</td>\n",
       "      <td>4/4/2023</td>\n",
       "    </tr>\n",
       "    <tr>\n",
       "      <th>55</th>\n",
       "      <td>TXN_5522862</td>\n",
       "      <td>Cookie</td>\n",
       "      <td>NaN</td>\n",
       "      <td>1.0</td>\n",
       "      <td>2.0</td>\n",
       "      <td>Credit Card</td>\n",
       "      <td>Takeaway</td>\n",
       "      <td>3/19/2023</td>\n",
       "    </tr>\n",
       "    <tr>\n",
       "      <th>57</th>\n",
       "      <td>TXN_2080895</td>\n",
       "      <td>Cake</td>\n",
       "      <td>NaN</td>\n",
       "      <td>3.0</td>\n",
       "      <td>3.0</td>\n",
       "      <td>Digital Wallet</td>\n",
       "      <td>In-store</td>\n",
       "      <td>4/19/2023</td>\n",
       "    </tr>\n",
       "    <tr>\n",
       "      <th>66</th>\n",
       "      <td>TXN_8501819</td>\n",
       "      <td>Juice</td>\n",
       "      <td>NaN</td>\n",
       "      <td>3.0</td>\n",
       "      <td>6.0</td>\n",
       "      <td>Cash</td>\n",
       "      <td>NaN</td>\n",
       "      <td>3/30/2023</td>\n",
       "    </tr>\n",
       "    <tr>\n",
       "      <th>117</th>\n",
       "      <td>TXN_2148617</td>\n",
       "      <td>Juice</td>\n",
       "      <td>NaN</td>\n",
       "      <td>3.0</td>\n",
       "      <td>9.0</td>\n",
       "      <td>Digital Wallet</td>\n",
       "      <td>UNKNOWN</td>\n",
       "      <td>1/10/2023</td>\n",
       "    </tr>\n",
       "    <tr>\n",
       "      <th>...</th>\n",
       "      <td>...</td>\n",
       "      <td>...</td>\n",
       "      <td>...</td>\n",
       "      <td>...</td>\n",
       "      <td>...</td>\n",
       "      <td>...</td>\n",
       "      <td>...</td>\n",
       "      <td>...</td>\n",
       "    </tr>\n",
       "    <tr>\n",
       "      <th>9932</th>\n",
       "      <td>TXN_8502079</td>\n",
       "      <td>Tea</td>\n",
       "      <td>NaN</td>\n",
       "      <td>1.5</td>\n",
       "      <td>3.0</td>\n",
       "      <td>Cash</td>\n",
       "      <td>NaN</td>\n",
       "      <td>4/20/2023</td>\n",
       "    </tr>\n",
       "    <tr>\n",
       "      <th>9935</th>\n",
       "      <td>TXN_9778251</td>\n",
       "      <td>Tea</td>\n",
       "      <td>NaN</td>\n",
       "      <td>1.5</td>\n",
       "      <td>6.0</td>\n",
       "      <td>NaN</td>\n",
       "      <td>Takeaway</td>\n",
       "      <td>11/9/2023</td>\n",
       "    </tr>\n",
       "    <tr>\n",
       "      <th>9944</th>\n",
       "      <td>TXN_7495283</td>\n",
       "      <td>Cake</td>\n",
       "      <td>NaN</td>\n",
       "      <td>3.0</td>\n",
       "      <td>15.0</td>\n",
       "      <td>Credit Card</td>\n",
       "      <td>Takeaway</td>\n",
       "      <td>4/14/2023</td>\n",
       "    </tr>\n",
       "    <tr>\n",
       "      <th>9957</th>\n",
       "      <td>TXN_6487003</td>\n",
       "      <td>Coffee</td>\n",
       "      <td>NaN</td>\n",
       "      <td>2.0</td>\n",
       "      <td>8.0</td>\n",
       "      <td>Credit Card</td>\n",
       "      <td>Takeaway</td>\n",
       "      <td>11/15/2023</td>\n",
       "    </tr>\n",
       "    <tr>\n",
       "      <th>9984</th>\n",
       "      <td>TXN_3142496</td>\n",
       "      <td>Smoothie</td>\n",
       "      <td>NaN</td>\n",
       "      <td>4.0</td>\n",
       "      <td>4.0</td>\n",
       "      <td>Cash</td>\n",
       "      <td>Takeaway</td>\n",
       "      <td>7/27/2023</td>\n",
       "    </tr>\n",
       "  </tbody>\n",
       "</table>\n",
       "<p>479 rows × 8 columns</p>\n",
       "</div>"
      ],
      "text/plain": [
       "     Transaction ID      Item  Quantity  Price Per Unit  Total Spent  \\\n",
       "20      TXN_3522028  Smoothie       NaN             4.0         20.0   \n",
       "55      TXN_5522862    Cookie       NaN             1.0          2.0   \n",
       "57      TXN_2080895      Cake       NaN             3.0          3.0   \n",
       "66      TXN_8501819     Juice       NaN             3.0          6.0   \n",
       "117     TXN_2148617     Juice       NaN             3.0          9.0   \n",
       "...             ...       ...       ...             ...          ...   \n",
       "9932    TXN_8502079       Tea       NaN             1.5          3.0   \n",
       "9935    TXN_9778251       Tea       NaN             1.5          6.0   \n",
       "9944    TXN_7495283      Cake       NaN             3.0         15.0   \n",
       "9957    TXN_6487003    Coffee       NaN             2.0          8.0   \n",
       "9984    TXN_3142496  Smoothie       NaN             4.0          4.0   \n",
       "\n",
       "      Payment Method  Location Transaction Date  \n",
       "20              Cash  In-store         4/4/2023  \n",
       "55       Credit Card  Takeaway        3/19/2023  \n",
       "57    Digital Wallet  In-store        4/19/2023  \n",
       "66              Cash       NaN        3/30/2023  \n",
       "117   Digital Wallet   UNKNOWN        1/10/2023  \n",
       "...              ...       ...              ...  \n",
       "9932            Cash       NaN        4/20/2023  \n",
       "9935             NaN  Takeaway        11/9/2023  \n",
       "9944     Credit Card  Takeaway        4/14/2023  \n",
       "9957     Credit Card  Takeaway       11/15/2023  \n",
       "9984            Cash  Takeaway        7/27/2023  \n",
       "\n",
       "[479 rows x 8 columns]"
      ]
     },
     "execution_count": 813,
     "metadata": {},
     "output_type": "execute_result"
    }
   ],
   "source": [
    "# Filters the DataFrame to identify rows where 'Quantity' is labeled as 'NaN'\n",
    "cafe[pd.isna(cafe['Quantity'])]"
   ]
  },
  {
   "cell_type": "code",
   "execution_count": 815,
   "id": "6f07ca58-6e94-4cc5-b24c-376cc184a06e",
   "metadata": {},
   "outputs": [],
   "source": [
    "# Calculates missing 'Quantity' values by dividing 'Total Spent' by 'Price Per Unit'\n",
    "cafe['Quantity'] = cafe['Quantity'].fillna(cafe['Total Spent'] / cafe['Price Per Unit'])"
   ]
  },
  {
   "cell_type": "code",
   "execution_count": 817,
   "id": "29de135f-5d7b-4f90-897b-981d324acc42",
   "metadata": {},
   "outputs": [
    {
     "data": {
      "text/plain": [
       "23"
      ]
     },
     "execution_count": 817,
     "metadata": {},
     "output_type": "execute_result"
    }
   ],
   "source": [
    "# Counts the total number of 'NaN' values in the 'Quantity' column \n",
    "cafe[pd.isna(cafe['Quantity'])].shape[0]"
   ]
  },
  {
   "cell_type": "code",
   "execution_count": 819,
   "id": "633a5ac5-30e3-4ccb-924d-708ed4ddc9d2",
   "metadata": {},
   "outputs": [
    {
     "data": {
      "text/html": [
       "<div>\n",
       "<style scoped>\n",
       "    .dataframe tbody tr th:only-of-type {\n",
       "        vertical-align: middle;\n",
       "    }\n",
       "\n",
       "    .dataframe tbody tr th {\n",
       "        vertical-align: top;\n",
       "    }\n",
       "\n",
       "    .dataframe thead th {\n",
       "        text-align: right;\n",
       "    }\n",
       "</style>\n",
       "<table border=\"1\" class=\"dataframe\">\n",
       "  <thead>\n",
       "    <tr style=\"text-align: right;\">\n",
       "      <th></th>\n",
       "      <th>Transaction ID</th>\n",
       "      <th>Item</th>\n",
       "      <th>Quantity</th>\n",
       "      <th>Price Per Unit</th>\n",
       "      <th>Total Spent</th>\n",
       "      <th>Payment Method</th>\n",
       "      <th>Location</th>\n",
       "      <th>Transaction Date</th>\n",
       "    </tr>\n",
       "  </thead>\n",
       "  <tbody>\n",
       "    <tr>\n",
       "      <th>236</th>\n",
       "      <td>TXN_8562645</td>\n",
       "      <td>Salad</td>\n",
       "      <td>NaN</td>\n",
       "      <td>5.0</td>\n",
       "      <td>NaN</td>\n",
       "      <td>NaN</td>\n",
       "      <td>In-store</td>\n",
       "      <td>5/18/2023</td>\n",
       "    </tr>\n",
       "    <tr>\n",
       "      <th>278</th>\n",
       "      <td>TXN_3229409</td>\n",
       "      <td>Juice</td>\n",
       "      <td>NaN</td>\n",
       "      <td>3.0</td>\n",
       "      <td>NaN</td>\n",
       "      <td>Cash</td>\n",
       "      <td>Takeaway</td>\n",
       "      <td>4/15/2023</td>\n",
       "    </tr>\n",
       "    <tr>\n",
       "      <th>641</th>\n",
       "      <td>TXN_2962976</td>\n",
       "      <td>Juice</td>\n",
       "      <td>NaN</td>\n",
       "      <td>3.0</td>\n",
       "      <td>NaN</td>\n",
       "      <td>NaN</td>\n",
       "      <td>NaN</td>\n",
       "      <td>3/17/2023</td>\n",
       "    </tr>\n",
       "    <tr>\n",
       "      <th>738</th>\n",
       "      <td>TXN_8696094</td>\n",
       "      <td>Sandwich</td>\n",
       "      <td>NaN</td>\n",
       "      <td>4.0</td>\n",
       "      <td>NaN</td>\n",
       "      <td>NaN</td>\n",
       "      <td>Takeaway</td>\n",
       "      <td>5/14/2023</td>\n",
       "    </tr>\n",
       "    <tr>\n",
       "      <th>2796</th>\n",
       "      <td>TXN_9188692</td>\n",
       "      <td>Cake</td>\n",
       "      <td>NaN</td>\n",
       "      <td>3.0</td>\n",
       "      <td>NaN</td>\n",
       "      <td>Credit Card</td>\n",
       "      <td>NaN</td>\n",
       "      <td>12/1/2023</td>\n",
       "    </tr>\n",
       "  </tbody>\n",
       "</table>\n",
       "</div>"
      ],
      "text/plain": [
       "     Transaction ID      Item  Quantity  Price Per Unit  Total Spent  \\\n",
       "236     TXN_8562645     Salad       NaN             5.0          NaN   \n",
       "278     TXN_3229409     Juice       NaN             3.0          NaN   \n",
       "641     TXN_2962976     Juice       NaN             3.0          NaN   \n",
       "738     TXN_8696094  Sandwich       NaN             4.0          NaN   \n",
       "2796    TXN_9188692      Cake       NaN             3.0          NaN   \n",
       "\n",
       "     Payment Method  Location Transaction Date  \n",
       "236             NaN  In-store        5/18/2023  \n",
       "278            Cash  Takeaway        4/15/2023  \n",
       "641             NaN       NaN        3/17/2023  \n",
       "738             NaN  Takeaway        5/14/2023  \n",
       "2796    Credit Card       NaN        12/1/2023  "
      ]
     },
     "execution_count": 819,
     "metadata": {},
     "output_type": "execute_result"
    }
   ],
   "source": [
    "# Filters the DataFrame to identify rows where 'Quantity' is labeled as 'NaN'\n",
    "cafe[pd.isna(cafe['Quantity'])].head()\n",
    "\n",
    "# 23 rows remain unresolved due to missing data in the 'Total Spent' column. While these rows lack essential information,\n",
    "# they should be retained until tracing efforts using 'Transaction Date' and 'Transaction ID' have been completed."
   ]
  },
  {
   "cell_type": "markdown",
   "id": "10f6304a-cd27-4643-9de6-c166be51619c",
   "metadata": {},
   "source": [
    "### CLEANING AND REFINING THE COLUMN 'Total Spent' "
   ]
  },
  {
   "cell_type": "code",
   "execution_count": 821,
   "id": "fa4e0253-34d9-42ac-a88c-1dd9620e9da5",
   "metadata": {},
   "outputs": [
    {
     "data": {
      "text/plain": [
       "502"
      ]
     },
     "execution_count": 821,
     "metadata": {},
     "output_type": "execute_result"
    }
   ],
   "source": [
    "# Counts the total number of 'NaN' values in the 'Total Spent' column \n",
    "cafe[pd.isna(cafe['Total Spent'])].shape[0]"
   ]
  },
  {
   "cell_type": "code",
   "execution_count": 823,
   "id": "6e30c178-0846-499b-bdd6-2836d3da162a",
   "metadata": {},
   "outputs": [
    {
     "data": {
      "text/html": [
       "<div>\n",
       "<style scoped>\n",
       "    .dataframe tbody tr th:only-of-type {\n",
       "        vertical-align: middle;\n",
       "    }\n",
       "\n",
       "    .dataframe tbody tr th {\n",
       "        vertical-align: top;\n",
       "    }\n",
       "\n",
       "    .dataframe thead th {\n",
       "        text-align: right;\n",
       "    }\n",
       "</style>\n",
       "<table border=\"1\" class=\"dataframe\">\n",
       "  <thead>\n",
       "    <tr style=\"text-align: right;\">\n",
       "      <th></th>\n",
       "      <th>Transaction ID</th>\n",
       "      <th>Item</th>\n",
       "      <th>Quantity</th>\n",
       "      <th>Price Per Unit</th>\n",
       "      <th>Total Spent</th>\n",
       "      <th>Payment Method</th>\n",
       "      <th>Location</th>\n",
       "      <th>Transaction Date</th>\n",
       "    </tr>\n",
       "  </thead>\n",
       "  <tbody>\n",
       "    <tr>\n",
       "      <th>2</th>\n",
       "      <td>TXN_4271903</td>\n",
       "      <td>Cookie</td>\n",
       "      <td>4.0</td>\n",
       "      <td>1.0</td>\n",
       "      <td>NaN</td>\n",
       "      <td>Credit Card</td>\n",
       "      <td>In-store</td>\n",
       "      <td>7/19/2023</td>\n",
       "    </tr>\n",
       "    <tr>\n",
       "      <th>25</th>\n",
       "      <td>TXN_7958992</td>\n",
       "      <td>Smoothie</td>\n",
       "      <td>3.0</td>\n",
       "      <td>4.0</td>\n",
       "      <td>NaN</td>\n",
       "      <td>UNKNOWN</td>\n",
       "      <td>UNKNOWN</td>\n",
       "      <td>12/13/2023</td>\n",
       "    </tr>\n",
       "    <tr>\n",
       "      <th>31</th>\n",
       "      <td>TXN_8927252</td>\n",
       "      <td>Cookie</td>\n",
       "      <td>2.0</td>\n",
       "      <td>1.0</td>\n",
       "      <td>NaN</td>\n",
       "      <td>Credit Card</td>\n",
       "      <td>ERROR</td>\n",
       "      <td>11/6/2023</td>\n",
       "    </tr>\n",
       "    <tr>\n",
       "      <th>42</th>\n",
       "      <td>TXN_6650263</td>\n",
       "      <td>Tea</td>\n",
       "      <td>2.0</td>\n",
       "      <td>1.5</td>\n",
       "      <td>NaN</td>\n",
       "      <td>NaN</td>\n",
       "      <td>Takeaway</td>\n",
       "      <td>1/10/2023</td>\n",
       "    </tr>\n",
       "    <tr>\n",
       "      <th>65</th>\n",
       "      <td>TXN_4987129</td>\n",
       "      <td>Sandwich</td>\n",
       "      <td>3.0</td>\n",
       "      <td>4.0</td>\n",
       "      <td>NaN</td>\n",
       "      <td>NaN</td>\n",
       "      <td>In-store</td>\n",
       "      <td>10/20/2023</td>\n",
       "    </tr>\n",
       "    <tr>\n",
       "      <th>...</th>\n",
       "      <td>...</td>\n",
       "      <td>...</td>\n",
       "      <td>...</td>\n",
       "      <td>...</td>\n",
       "      <td>...</td>\n",
       "      <td>...</td>\n",
       "      <td>...</td>\n",
       "      <td>...</td>\n",
       "    </tr>\n",
       "    <tr>\n",
       "      <th>9893</th>\n",
       "      <td>TXN_3809533</td>\n",
       "      <td>Juice</td>\n",
       "      <td>2.0</td>\n",
       "      <td>3.0</td>\n",
       "      <td>NaN</td>\n",
       "      <td>Digital Wallet</td>\n",
       "      <td>Takeaway</td>\n",
       "      <td>2/2/2023</td>\n",
       "    </tr>\n",
       "    <tr>\n",
       "      <th>9954</th>\n",
       "      <td>TXN_1191659</td>\n",
       "      <td>Coffee</td>\n",
       "      <td>4.0</td>\n",
       "      <td>2.0</td>\n",
       "      <td>NaN</td>\n",
       "      <td>Credit Card</td>\n",
       "      <td>In-store</td>\n",
       "      <td>11/21/2023</td>\n",
       "    </tr>\n",
       "    <tr>\n",
       "      <th>9977</th>\n",
       "      <td>TXN_5548914</td>\n",
       "      <td>Juice</td>\n",
       "      <td>2.0</td>\n",
       "      <td>3.0</td>\n",
       "      <td>NaN</td>\n",
       "      <td>Digital Wallet</td>\n",
       "      <td>In-store</td>\n",
       "      <td>11/4/2023</td>\n",
       "    </tr>\n",
       "    <tr>\n",
       "      <th>9988</th>\n",
       "      <td>TXN_9594133</td>\n",
       "      <td>Cake</td>\n",
       "      <td>5.0</td>\n",
       "      <td>3.0</td>\n",
       "      <td>NaN</td>\n",
       "      <td>ERROR</td>\n",
       "      <td>NaN</td>\n",
       "      <td>NaN</td>\n",
       "    </tr>\n",
       "    <tr>\n",
       "      <th>9993</th>\n",
       "      <td>TXN_4766549</td>\n",
       "      <td>Smoothie</td>\n",
       "      <td>2.0</td>\n",
       "      <td>4.0</td>\n",
       "      <td>NaN</td>\n",
       "      <td>Cash</td>\n",
       "      <td>NaN</td>\n",
       "      <td>10/20/2023</td>\n",
       "    </tr>\n",
       "  </tbody>\n",
       "</table>\n",
       "<p>502 rows × 8 columns</p>\n",
       "</div>"
      ],
      "text/plain": [
       "     Transaction ID      Item  Quantity  Price Per Unit  Total Spent  \\\n",
       "2       TXN_4271903    Cookie       4.0             1.0          NaN   \n",
       "25      TXN_7958992  Smoothie       3.0             4.0          NaN   \n",
       "31      TXN_8927252    Cookie       2.0             1.0          NaN   \n",
       "42      TXN_6650263       Tea       2.0             1.5          NaN   \n",
       "65      TXN_4987129  Sandwich       3.0             4.0          NaN   \n",
       "...             ...       ...       ...             ...          ...   \n",
       "9893    TXN_3809533     Juice       2.0             3.0          NaN   \n",
       "9954    TXN_1191659    Coffee       4.0             2.0          NaN   \n",
       "9977    TXN_5548914     Juice       2.0             3.0          NaN   \n",
       "9988    TXN_9594133      Cake       5.0             3.0          NaN   \n",
       "9993    TXN_4766549  Smoothie       2.0             4.0          NaN   \n",
       "\n",
       "      Payment Method  Location Transaction Date  \n",
       "2        Credit Card  In-store        7/19/2023  \n",
       "25           UNKNOWN   UNKNOWN       12/13/2023  \n",
       "31       Credit Card     ERROR        11/6/2023  \n",
       "42               NaN  Takeaway        1/10/2023  \n",
       "65               NaN  In-store       10/20/2023  \n",
       "...              ...       ...              ...  \n",
       "9893  Digital Wallet  Takeaway         2/2/2023  \n",
       "9954     Credit Card  In-store       11/21/2023  \n",
       "9977  Digital Wallet  In-store        11/4/2023  \n",
       "9988           ERROR       NaN              NaN  \n",
       "9993            Cash       NaN       10/20/2023  \n",
       "\n",
       "[502 rows x 8 columns]"
      ]
     },
     "execution_count": 823,
     "metadata": {},
     "output_type": "execute_result"
    }
   ],
   "source": [
    "# Filters the DataFrame to identify rows where 'Total Spent' is labeled as 'NaN'\n",
    "cafe[pd.isna(cafe['Total Spent'])]"
   ]
  },
  {
   "cell_type": "code",
   "execution_count": 825,
   "id": "28205827-3cbd-4efe-bdc0-c43be83bb261",
   "metadata": {},
   "outputs": [],
   "source": [
    "# Calculates missing 'Total Spent' values by multiplying 'Quantity' by 'Price Per Unit'\n",
    "cafe['Total Spent'].fillna(cafe['Quantity'] * cafe['Price Per Unit'], inplace=True)"
   ]
  },
  {
   "cell_type": "code",
   "execution_count": 827,
   "id": "58a712ea-f0a1-48d3-9ede-d6f9fa27d1e2",
   "metadata": {},
   "outputs": [
    {
     "data": {
      "text/plain": [
       "23"
      ]
     },
     "execution_count": 827,
     "metadata": {},
     "output_type": "execute_result"
    }
   ],
   "source": [
    "# Counts the total number of 'NaN' values in the 'Total Spent' column \n",
    "cafe[pd.isna(cafe['Total Spent'])].shape[0]"
   ]
  },
  {
   "cell_type": "code",
   "execution_count": 829,
   "id": "a81384b6-1c2b-4b1c-9d90-1b4e220fd00b",
   "metadata": {},
   "outputs": [
    {
     "data": {
      "text/html": [
       "<div>\n",
       "<style scoped>\n",
       "    .dataframe tbody tr th:only-of-type {\n",
       "        vertical-align: middle;\n",
       "    }\n",
       "\n",
       "    .dataframe tbody tr th {\n",
       "        vertical-align: top;\n",
       "    }\n",
       "\n",
       "    .dataframe thead th {\n",
       "        text-align: right;\n",
       "    }\n",
       "</style>\n",
       "<table border=\"1\" class=\"dataframe\">\n",
       "  <thead>\n",
       "    <tr style=\"text-align: right;\">\n",
       "      <th></th>\n",
       "      <th>Transaction ID</th>\n",
       "      <th>Item</th>\n",
       "      <th>Quantity</th>\n",
       "      <th>Price Per Unit</th>\n",
       "      <th>Total Spent</th>\n",
       "      <th>Payment Method</th>\n",
       "      <th>Location</th>\n",
       "      <th>Transaction Date</th>\n",
       "    </tr>\n",
       "  </thead>\n",
       "  <tbody>\n",
       "    <tr>\n",
       "      <th>236</th>\n",
       "      <td>TXN_8562645</td>\n",
       "      <td>Salad</td>\n",
       "      <td>NaN</td>\n",
       "      <td>5.0</td>\n",
       "      <td>NaN</td>\n",
       "      <td>NaN</td>\n",
       "      <td>In-store</td>\n",
       "      <td>5/18/2023</td>\n",
       "    </tr>\n",
       "    <tr>\n",
       "      <th>278</th>\n",
       "      <td>TXN_3229409</td>\n",
       "      <td>Juice</td>\n",
       "      <td>NaN</td>\n",
       "      <td>3.0</td>\n",
       "      <td>NaN</td>\n",
       "      <td>Cash</td>\n",
       "      <td>Takeaway</td>\n",
       "      <td>4/15/2023</td>\n",
       "    </tr>\n",
       "    <tr>\n",
       "      <th>641</th>\n",
       "      <td>TXN_2962976</td>\n",
       "      <td>Juice</td>\n",
       "      <td>NaN</td>\n",
       "      <td>3.0</td>\n",
       "      <td>NaN</td>\n",
       "      <td>NaN</td>\n",
       "      <td>NaN</td>\n",
       "      <td>3/17/2023</td>\n",
       "    </tr>\n",
       "    <tr>\n",
       "      <th>738</th>\n",
       "      <td>TXN_8696094</td>\n",
       "      <td>Sandwich</td>\n",
       "      <td>NaN</td>\n",
       "      <td>4.0</td>\n",
       "      <td>NaN</td>\n",
       "      <td>NaN</td>\n",
       "      <td>Takeaway</td>\n",
       "      <td>5/14/2023</td>\n",
       "    </tr>\n",
       "    <tr>\n",
       "      <th>1761</th>\n",
       "      <td>TXN_3611851</td>\n",
       "      <td>Unknown</td>\n",
       "      <td>4.0</td>\n",
       "      <td>NaN</td>\n",
       "      <td>NaN</td>\n",
       "      <td>Credit Card</td>\n",
       "      <td>NaN</td>\n",
       "      <td>2/9/2023</td>\n",
       "    </tr>\n",
       "  </tbody>\n",
       "</table>\n",
       "</div>"
      ],
      "text/plain": [
       "     Transaction ID      Item  Quantity  Price Per Unit  Total Spent  \\\n",
       "236     TXN_8562645     Salad       NaN             5.0          NaN   \n",
       "278     TXN_3229409     Juice       NaN             3.0          NaN   \n",
       "641     TXN_2962976     Juice       NaN             3.0          NaN   \n",
       "738     TXN_8696094  Sandwich       NaN             4.0          NaN   \n",
       "1761    TXN_3611851   Unknown       4.0             NaN          NaN   \n",
       "\n",
       "     Payment Method  Location Transaction Date  \n",
       "236             NaN  In-store        5/18/2023  \n",
       "278            Cash  Takeaway        4/15/2023  \n",
       "641             NaN       NaN        3/17/2023  \n",
       "738             NaN  Takeaway        5/14/2023  \n",
       "1761    Credit Card       NaN         2/9/2023  "
      ]
     },
     "execution_count": 829,
     "metadata": {},
     "output_type": "execute_result"
    }
   ],
   "source": [
    "# Filters the DataFrame to identify rows where 'Total Spent' is labeled as 'NaN'\n",
    "cafe[pd.isna(cafe['Total Spent'])].head()\n",
    "\n",
    "# 20 of These 23 rows correspond to the same entries flagged in the 'Quantity' column. As previously noted, tracing them using \n",
    "# 'Transaction Date' and 'Transaction ID' may help recover details before considering removal."
   ]
  },
  {
   "cell_type": "markdown",
   "id": "31582fa9-cee5-4618-a705-b0c63268a00d",
   "metadata": {},
   "source": [
    "### CLEANING AND REFINING THE COLUMN 'Payment Method'"
   ]
  },
  {
   "cell_type": "code",
   "execution_count": 831,
   "id": "e3754c4f-a3f1-4f13-82f1-750fb6014305",
   "metadata": {},
   "outputs": [
    {
     "data": {
      "text/plain": [
       "array(['Credit Card', 'Cash', 'UNKNOWN', 'Digital Wallet', 'ERROR', nan],\n",
       "      dtype=object)"
      ]
     },
     "execution_count": 831,
     "metadata": {},
     "output_type": "execute_result"
    }
   ],
   "source": [
    "# Retrieves a list of the unique values from the 'Payment Method' column\n",
    "cafe['Payment Method'].unique()"
   ]
  },
  {
   "cell_type": "code",
   "execution_count": 833,
   "id": "b8f46a00-b261-41c0-8de6-94224ab394e6",
   "metadata": {},
   "outputs": [],
   "source": [
    "# Standardizes Payment Methods by filling missing values, replacing 'ERROR', and ensuring consistent title case formatting\n",
    "cafe['Payment Method'] = cafe['Payment Method'].fillna('Unknown').str.replace('ERROR', 'Unknown').str.title()"
   ]
  },
  {
   "cell_type": "code",
   "execution_count": 835,
   "id": "1e945239-0a73-49ad-9f1e-4058b2138f2c",
   "metadata": {},
   "outputs": [
    {
     "data": {
      "text/plain": [
       "array(['Credit Card', 'Cash', 'Unknown', 'Digital Wallet'], dtype=object)"
      ]
     },
     "execution_count": 835,
     "metadata": {},
     "output_type": "execute_result"
    }
   ],
   "source": [
    "# Retrieves a list of the unique values from the 'Payment Method' column\n",
    "cafe['Payment Method'].unique()"
   ]
  },
  {
   "cell_type": "code",
   "execution_count": 837,
   "id": "2bdaa65b-e632-41e5-9391-30ad8d177bbb",
   "metadata": {},
   "outputs": [
    {
     "data": {
      "text/plain": [
       "3178"
      ]
     },
     "execution_count": 837,
     "metadata": {},
     "output_type": "execute_result"
    }
   ],
   "source": [
    "# Counts the total number of 'Unknown' values in the 'Payment Method' column \n",
    "cafe[cafe['Payment Method'] == 'Unknown'].shape[0]"
   ]
  },
  {
   "cell_type": "code",
   "execution_count": 839,
   "id": "77b414be-70a8-4ece-9054-cb186948785d",
   "metadata": {},
   "outputs": [
    {
     "data": {
      "text/html": [
       "<div>\n",
       "<style scoped>\n",
       "    .dataframe tbody tr th:only-of-type {\n",
       "        vertical-align: middle;\n",
       "    }\n",
       "\n",
       "    .dataframe tbody tr th {\n",
       "        vertical-align: top;\n",
       "    }\n",
       "\n",
       "    .dataframe thead th {\n",
       "        text-align: right;\n",
       "    }\n",
       "</style>\n",
       "<table border=\"1\" class=\"dataframe\">\n",
       "  <thead>\n",
       "    <tr style=\"text-align: right;\">\n",
       "      <th></th>\n",
       "      <th>Transaction ID</th>\n",
       "      <th>Item</th>\n",
       "      <th>Quantity</th>\n",
       "      <th>Price Per Unit</th>\n",
       "      <th>Total Spent</th>\n",
       "      <th>Payment Method</th>\n",
       "      <th>Location</th>\n",
       "      <th>Transaction Date</th>\n",
       "    </tr>\n",
       "  </thead>\n",
       "  <tbody>\n",
       "    <tr>\n",
       "      <th>3</th>\n",
       "      <td>TXN_7034554</td>\n",
       "      <td>Salad</td>\n",
       "      <td>2.0</td>\n",
       "      <td>5.0</td>\n",
       "      <td>10.0</td>\n",
       "      <td>Unknown</td>\n",
       "      <td>UNKNOWN</td>\n",
       "      <td>4/27/2023</td>\n",
       "    </tr>\n",
       "    <tr>\n",
       "      <th>6</th>\n",
       "      <td>TXN_4433211</td>\n",
       "      <td>Cake Or Juice</td>\n",
       "      <td>3.0</td>\n",
       "      <td>3.0</td>\n",
       "      <td>9.0</td>\n",
       "      <td>Unknown</td>\n",
       "      <td>Takeaway</td>\n",
       "      <td>10/6/2023</td>\n",
       "    </tr>\n",
       "    <tr>\n",
       "      <th>8</th>\n",
       "      <td>TXN_4717867</td>\n",
       "      <td>Cake Or Juice</td>\n",
       "      <td>5.0</td>\n",
       "      <td>3.0</td>\n",
       "      <td>15.0</td>\n",
       "      <td>Unknown</td>\n",
       "      <td>Takeaway</td>\n",
       "      <td>7/28/2023</td>\n",
       "    </tr>\n",
       "    <tr>\n",
       "      <th>9</th>\n",
       "      <td>TXN_2064365</td>\n",
       "      <td>Sandwich</td>\n",
       "      <td>5.0</td>\n",
       "      <td>4.0</td>\n",
       "      <td>20.0</td>\n",
       "      <td>Unknown</td>\n",
       "      <td>In-store</td>\n",
       "      <td>12/31/2023</td>\n",
       "    </tr>\n",
       "    <tr>\n",
       "      <th>13</th>\n",
       "      <td>TXN_9437049</td>\n",
       "      <td>Cookie</td>\n",
       "      <td>5.0</td>\n",
       "      <td>1.0</td>\n",
       "      <td>5.0</td>\n",
       "      <td>Unknown</td>\n",
       "      <td>Takeaway</td>\n",
       "      <td>6/1/2023</td>\n",
       "    </tr>\n",
       "    <tr>\n",
       "      <th>...</th>\n",
       "      <td>...</td>\n",
       "      <td>...</td>\n",
       "      <td>...</td>\n",
       "      <td>...</td>\n",
       "      <td>...</td>\n",
       "      <td>...</td>\n",
       "      <td>...</td>\n",
       "      <td>...</td>\n",
       "    </tr>\n",
       "    <tr>\n",
       "      <th>9985</th>\n",
       "      <td>TXN_3297457</td>\n",
       "      <td>Cake</td>\n",
       "      <td>2.0</td>\n",
       "      <td>3.0</td>\n",
       "      <td>6.0</td>\n",
       "      <td>Unknown</td>\n",
       "      <td>UNKNOWN</td>\n",
       "      <td>1/3/2023</td>\n",
       "    </tr>\n",
       "    <tr>\n",
       "      <th>9988</th>\n",
       "      <td>TXN_9594133</td>\n",
       "      <td>Cake</td>\n",
       "      <td>5.0</td>\n",
       "      <td>3.0</td>\n",
       "      <td>15.0</td>\n",
       "      <td>Unknown</td>\n",
       "      <td>NaN</td>\n",
       "      <td>NaN</td>\n",
       "    </tr>\n",
       "    <tr>\n",
       "      <th>9992</th>\n",
       "      <td>TXN_2739140</td>\n",
       "      <td>Smoothie</td>\n",
       "      <td>4.0</td>\n",
       "      <td>4.0</td>\n",
       "      <td>16.0</td>\n",
       "      <td>Unknown</td>\n",
       "      <td>In-store</td>\n",
       "      <td>7/5/2023</td>\n",
       "    </tr>\n",
       "    <tr>\n",
       "      <th>9994</th>\n",
       "      <td>TXN_7851634</td>\n",
       "      <td>Sandwich Or Smoothie</td>\n",
       "      <td>4.0</td>\n",
       "      <td>4.0</td>\n",
       "      <td>16.0</td>\n",
       "      <td>Unknown</td>\n",
       "      <td>NaN</td>\n",
       "      <td>1/8/2023</td>\n",
       "    </tr>\n",
       "    <tr>\n",
       "      <th>9995</th>\n",
       "      <td>TXN_7672686</td>\n",
       "      <td>Coffee</td>\n",
       "      <td>2.0</td>\n",
       "      <td>2.0</td>\n",
       "      <td>4.0</td>\n",
       "      <td>Unknown</td>\n",
       "      <td>UNKNOWN</td>\n",
       "      <td>8/30/2023</td>\n",
       "    </tr>\n",
       "  </tbody>\n",
       "</table>\n",
       "<p>3178 rows × 8 columns</p>\n",
       "</div>"
      ],
      "text/plain": [
       "     Transaction ID                  Item  Quantity  Price Per Unit  \\\n",
       "3       TXN_7034554                 Salad       2.0             5.0   \n",
       "6       TXN_4433211         Cake Or Juice       3.0             3.0   \n",
       "8       TXN_4717867         Cake Or Juice       5.0             3.0   \n",
       "9       TXN_2064365              Sandwich       5.0             4.0   \n",
       "13      TXN_9437049                Cookie       5.0             1.0   \n",
       "...             ...                   ...       ...             ...   \n",
       "9985    TXN_3297457                  Cake       2.0             3.0   \n",
       "9988    TXN_9594133                  Cake       5.0             3.0   \n",
       "9992    TXN_2739140              Smoothie       4.0             4.0   \n",
       "9994    TXN_7851634  Sandwich Or Smoothie       4.0             4.0   \n",
       "9995    TXN_7672686                Coffee       2.0             2.0   \n",
       "\n",
       "      Total Spent Payment Method  Location Transaction Date  \n",
       "3            10.0        Unknown   UNKNOWN        4/27/2023  \n",
       "6             9.0        Unknown  Takeaway        10/6/2023  \n",
       "8            15.0        Unknown  Takeaway        7/28/2023  \n",
       "9            20.0        Unknown  In-store       12/31/2023  \n",
       "13            5.0        Unknown  Takeaway         6/1/2023  \n",
       "...           ...            ...       ...              ...  \n",
       "9985          6.0        Unknown   UNKNOWN         1/3/2023  \n",
       "9988         15.0        Unknown       NaN              NaN  \n",
       "9992         16.0        Unknown  In-store         7/5/2023  \n",
       "9994         16.0        Unknown       NaN         1/8/2023  \n",
       "9995          4.0        Unknown   UNKNOWN        8/30/2023  \n",
       "\n",
       "[3178 rows x 8 columns]"
      ]
     },
     "execution_count": 839,
     "metadata": {},
     "output_type": "execute_result"
    }
   ],
   "source": [
    "# Filters the DataFrame to identify rows where 'Payment Method' is labeled as 'Unknown'\n",
    "cafe[cafe['Payment Method'] == 'Unknown']\n",
    "\n",
    "# While a significant number of transactions lack a recorded payment method, these rows still offer valuable insights and should be retained.\n",
    "# To enhance data accuracy, tracing through 'Transaction Date' and 'Transaction ID' should be conductd to determine the actual payment method\n",
    "# for each of the 3,178 transactions."
   ]
  },
  {
   "cell_type": "markdown",
   "id": "a0e186d9-6143-42ab-97a1-fe7ce70339ef",
   "metadata": {},
   "source": [
    "### CLEANING AND REFINING THE COLUMN 'Location'"
   ]
  },
  {
   "cell_type": "code",
   "execution_count": 841,
   "id": "bd3ea78b-4d32-404a-a43e-220ca2836b12",
   "metadata": {},
   "outputs": [
    {
     "data": {
      "text/plain": [
       "array(['Takeaway', 'In-store', 'UNKNOWN', nan, 'ERROR'], dtype=object)"
      ]
     },
     "execution_count": 841,
     "metadata": {},
     "output_type": "execute_result"
    }
   ],
   "source": [
    "# Retrieves a list of the unique values from the 'Location' column\n",
    "cafe['Location'].unique()"
   ]
  },
  {
   "cell_type": "code",
   "execution_count": 843,
   "id": "006dd287-7239-4bad-9c96-c0eb9ab7d23b",
   "metadata": {},
   "outputs": [],
   "source": [
    "# Standardizes Location by filling missing values, replacing 'ERROR', and ensuring consistent title case formatting\n",
    "cafe['Location'] = cafe['Location'].fillna('Unknown').str.replace('ERROR', 'Unknown').str.title()"
   ]
  },
  {
   "cell_type": "code",
   "execution_count": 845,
   "id": "ea1d71dc-c096-482a-af0f-7bd44c59d852",
   "metadata": {},
   "outputs": [
    {
     "data": {
      "text/plain": [
       "array(['Takeaway', 'In-Store', 'Unknown'], dtype=object)"
      ]
     },
     "execution_count": 845,
     "metadata": {},
     "output_type": "execute_result"
    }
   ],
   "source": [
    "# Retrieves a list of the unique values from the 'Location' column\n",
    "cafe['Location'].unique()"
   ]
  },
  {
   "cell_type": "code",
   "execution_count": 847,
   "id": "9bfe97df-cb7e-4ff5-82e3-d6b1e5a8c633",
   "metadata": {},
   "outputs": [
    {
     "data": {
      "text/plain": [
       "3961"
      ]
     },
     "execution_count": 847,
     "metadata": {},
     "output_type": "execute_result"
    }
   ],
   "source": [
    "# Counts the total number of 'Unknown' values in the 'Location' column \n",
    "cafe[cafe['Location'] == 'Unknown'].shape[0]"
   ]
  },
  {
   "cell_type": "code",
   "execution_count": 849,
   "id": "c9f33007-929a-4c5d-a1c6-dcfeac36d18a",
   "metadata": {},
   "outputs": [
    {
     "data": {
      "text/html": [
       "<div>\n",
       "<style scoped>\n",
       "    .dataframe tbody tr th:only-of-type {\n",
       "        vertical-align: middle;\n",
       "    }\n",
       "\n",
       "    .dataframe tbody tr th {\n",
       "        vertical-align: top;\n",
       "    }\n",
       "\n",
       "    .dataframe thead th {\n",
       "        text-align: right;\n",
       "    }\n",
       "</style>\n",
       "<table border=\"1\" class=\"dataframe\">\n",
       "  <thead>\n",
       "    <tr style=\"text-align: right;\">\n",
       "      <th></th>\n",
       "      <th>Transaction ID</th>\n",
       "      <th>Item</th>\n",
       "      <th>Quantity</th>\n",
       "      <th>Price Per Unit</th>\n",
       "      <th>Total Spent</th>\n",
       "      <th>Payment Method</th>\n",
       "      <th>Location</th>\n",
       "      <th>Transaction Date</th>\n",
       "    </tr>\n",
       "  </thead>\n",
       "  <tbody>\n",
       "    <tr>\n",
       "      <th>3</th>\n",
       "      <td>TXN_7034554</td>\n",
       "      <td>Salad</td>\n",
       "      <td>2.0</td>\n",
       "      <td>5.0</td>\n",
       "      <td>10.0</td>\n",
       "      <td>Unknown</td>\n",
       "      <td>Unknown</td>\n",
       "      <td>4/27/2023</td>\n",
       "    </tr>\n",
       "    <tr>\n",
       "      <th>5</th>\n",
       "      <td>TXN_2602893</td>\n",
       "      <td>Smoothie</td>\n",
       "      <td>5.0</td>\n",
       "      <td>4.0</td>\n",
       "      <td>20.0</td>\n",
       "      <td>Credit Card</td>\n",
       "      <td>Unknown</td>\n",
       "      <td>3/31/2023</td>\n",
       "    </tr>\n",
       "    <tr>\n",
       "      <th>7</th>\n",
       "      <td>TXN_6699534</td>\n",
       "      <td>Sandwich</td>\n",
       "      <td>4.0</td>\n",
       "      <td>4.0</td>\n",
       "      <td>16.0</td>\n",
       "      <td>Cash</td>\n",
       "      <td>Unknown</td>\n",
       "      <td>10/28/2023</td>\n",
       "    </tr>\n",
       "    <tr>\n",
       "      <th>16</th>\n",
       "      <td>TXN_3765707</td>\n",
       "      <td>Sandwich</td>\n",
       "      <td>1.0</td>\n",
       "      <td>4.0</td>\n",
       "      <td>4.0</td>\n",
       "      <td>Unknown</td>\n",
       "      <td>Unknown</td>\n",
       "      <td>6/10/2023</td>\n",
       "    </tr>\n",
       "    <tr>\n",
       "      <th>18</th>\n",
       "      <td>TXN_8876618</td>\n",
       "      <td>Cake</td>\n",
       "      <td>5.0</td>\n",
       "      <td>3.0</td>\n",
       "      <td>15.0</td>\n",
       "      <td>Cash</td>\n",
       "      <td>Unknown</td>\n",
       "      <td>3/25/2023</td>\n",
       "    </tr>\n",
       "    <tr>\n",
       "      <th>...</th>\n",
       "      <td>...</td>\n",
       "      <td>...</td>\n",
       "      <td>...</td>\n",
       "      <td>...</td>\n",
       "      <td>...</td>\n",
       "      <td>...</td>\n",
       "      <td>...</td>\n",
       "      <td>...</td>\n",
       "    </tr>\n",
       "    <tr>\n",
       "      <th>9994</th>\n",
       "      <td>TXN_7851634</td>\n",
       "      <td>Sandwich Or Smoothie</td>\n",
       "      <td>4.0</td>\n",
       "      <td>4.0</td>\n",
       "      <td>16.0</td>\n",
       "      <td>Unknown</td>\n",
       "      <td>Unknown</td>\n",
       "      <td>1/8/2023</td>\n",
       "    </tr>\n",
       "    <tr>\n",
       "      <th>9995</th>\n",
       "      <td>TXN_7672686</td>\n",
       "      <td>Coffee</td>\n",
       "      <td>2.0</td>\n",
       "      <td>2.0</td>\n",
       "      <td>4.0</td>\n",
       "      <td>Unknown</td>\n",
       "      <td>Unknown</td>\n",
       "      <td>8/30/2023</td>\n",
       "    </tr>\n",
       "    <tr>\n",
       "      <th>9996</th>\n",
       "      <td>TXN_9659401</td>\n",
       "      <td>Cookie</td>\n",
       "      <td>3.0</td>\n",
       "      <td>1.0</td>\n",
       "      <td>3.0</td>\n",
       "      <td>Digital Wallet</td>\n",
       "      <td>Unknown</td>\n",
       "      <td>6/2/2023</td>\n",
       "    </tr>\n",
       "    <tr>\n",
       "      <th>9997</th>\n",
       "      <td>TXN_5255387</td>\n",
       "      <td>Coffee</td>\n",
       "      <td>4.0</td>\n",
       "      <td>2.0</td>\n",
       "      <td>8.0</td>\n",
       "      <td>Digital Wallet</td>\n",
       "      <td>Unknown</td>\n",
       "      <td>3/2/2023</td>\n",
       "    </tr>\n",
       "    <tr>\n",
       "      <th>9998</th>\n",
       "      <td>TXN_7695629</td>\n",
       "      <td>Cookie</td>\n",
       "      <td>3.0</td>\n",
       "      <td>1.0</td>\n",
       "      <td>3.0</td>\n",
       "      <td>Digital Wallet</td>\n",
       "      <td>Unknown</td>\n",
       "      <td>12/2/2023</td>\n",
       "    </tr>\n",
       "  </tbody>\n",
       "</table>\n",
       "<p>3961 rows × 8 columns</p>\n",
       "</div>"
      ],
      "text/plain": [
       "     Transaction ID                  Item  Quantity  Price Per Unit  \\\n",
       "3       TXN_7034554                 Salad       2.0             5.0   \n",
       "5       TXN_2602893              Smoothie       5.0             4.0   \n",
       "7       TXN_6699534              Sandwich       4.0             4.0   \n",
       "16      TXN_3765707              Sandwich       1.0             4.0   \n",
       "18      TXN_8876618                  Cake       5.0             3.0   \n",
       "...             ...                   ...       ...             ...   \n",
       "9994    TXN_7851634  Sandwich Or Smoothie       4.0             4.0   \n",
       "9995    TXN_7672686                Coffee       2.0             2.0   \n",
       "9996    TXN_9659401                Cookie       3.0             1.0   \n",
       "9997    TXN_5255387                Coffee       4.0             2.0   \n",
       "9998    TXN_7695629                Cookie       3.0             1.0   \n",
       "\n",
       "      Total Spent  Payment Method Location Transaction Date  \n",
       "3            10.0         Unknown  Unknown        4/27/2023  \n",
       "5            20.0     Credit Card  Unknown        3/31/2023  \n",
       "7            16.0            Cash  Unknown       10/28/2023  \n",
       "16            4.0         Unknown  Unknown        6/10/2023  \n",
       "18           15.0            Cash  Unknown        3/25/2023  \n",
       "...           ...             ...      ...              ...  \n",
       "9994         16.0         Unknown  Unknown         1/8/2023  \n",
       "9995          4.0         Unknown  Unknown        8/30/2023  \n",
       "9996          3.0  Digital Wallet  Unknown         6/2/2023  \n",
       "9997          8.0  Digital Wallet  Unknown         3/2/2023  \n",
       "9998          3.0  Digital Wallet  Unknown        12/2/2023  \n",
       "\n",
       "[3961 rows x 8 columns]"
      ]
     },
     "execution_count": 849,
     "metadata": {},
     "output_type": "execute_result"
    }
   ],
   "source": [
    "# Filters the DataFrame to identify rows where 'Location' is labeled as 'Unknown'\n",
    "cafe[cafe['Location'] == 'Unknown']\n",
    "\n",
    "# While a significant number of transactions lack a recorded location, these rows still offer valuable insights and should be retained.\n",
    "# To enhance data accuracy, tracing through 'Transaction Date' and 'Transaction ID' should be conductd to determine the actual location\n",
    "# for each of the 3,961 transactions."
   ]
  },
  {
   "cell_type": "markdown",
   "id": "0fec4aee-8a59-464d-a186-0d263ac77879",
   "metadata": {},
   "source": [
    "### CLEANING AND REFINING THE COLUMN 'Transaction Date'"
   ]
  },
  {
   "cell_type": "code",
   "execution_count": 851,
   "id": "e0b88395-099e-4752-a353-6ca39f020696",
   "metadata": {},
   "outputs": [
    {
     "data": {
      "text/plain": [
       "dtype('O')"
      ]
     },
     "execution_count": 851,
     "metadata": {},
     "output_type": "execute_result"
    }
   ],
   "source": [
    "# Retrieves the data type of the 'Transaction Date' column\n",
    "cafe['Transaction Date'].dtype"
   ]
  },
  {
   "cell_type": "code",
   "execution_count": 899,
   "id": "7072eeb2-5020-4f83-9ec2-651a69913429",
   "metadata": {},
   "outputs": [],
   "source": [
    "# Converts 'Transaction Date' from object data type to datetime format\n",
    "cafe['Transaction Date'] = pd.to_datetime(cafe['Transaction Date'], format='mixed', errors='coerce').dt.date"
   ]
  },
  {
   "cell_type": "code",
   "execution_count": 903,
   "id": "f4c436b2-9ec0-4420-98e1-f3175b0d2520",
   "metadata": {},
   "outputs": [
    {
     "data": {
      "text/plain": [
       "460"
      ]
     },
     "execution_count": 903,
     "metadata": {},
     "output_type": "execute_result"
    }
   ],
   "source": [
    "# Counts the total number of 'NaN' values in the 'Transaction Date' column \n",
    "cafe[pd.isna(cafe['Transaction Date'])].shape[0]"
   ]
  },
  {
   "cell_type": "code",
   "execution_count": 905,
   "id": "908ae9e6-c7cf-4a72-9330-555c00e4c835",
   "metadata": {},
   "outputs": [],
   "source": [
    "# Replaces 'NaN' in the 'Transaction Date' column with 'Unknown'\n",
    "cafe['Transaction Date'] = cafe['Transaction Date'].fillna('Unknown')"
   ]
  },
  {
   "cell_type": "code",
   "execution_count": 907,
   "id": "b2ff9a77-a074-4549-9295-d8b0bcbbada3",
   "metadata": {},
   "outputs": [
    {
     "data": {
      "text/plain": [
       "0"
      ]
     },
     "execution_count": 907,
     "metadata": {},
     "output_type": "execute_result"
    }
   ],
   "source": [
    "# Counts the total number of 'NaN' values in the 'Transaction Date' column \n",
    "cafe[pd.isna(cafe['Transaction Date'])].shape[0]"
   ]
  },
  {
   "cell_type": "code",
   "execution_count": 909,
   "id": "dc9dead4-4eee-45c3-b2bb-ea457fc9fcdd",
   "metadata": {},
   "outputs": [
    {
     "data": {
      "text/plain": [
       "460"
      ]
     },
     "execution_count": 909,
     "metadata": {},
     "output_type": "execute_result"
    }
   ],
   "source": [
    "# Counts the total number of 'Unknown' values in the 'Transaction Date' column \n",
    "cafe[cafe['Transaction Date'] == 'Unknown'].shape[0]"
   ]
  },
  {
   "cell_type": "code",
   "execution_count": 911,
   "id": "d1bf789d-abcd-4efc-8da8-834461738e24",
   "metadata": {},
   "outputs": [
    {
     "data": {
      "text/html": [
       "<div>\n",
       "<style scoped>\n",
       "    .dataframe tbody tr th:only-of-type {\n",
       "        vertical-align: middle;\n",
       "    }\n",
       "\n",
       "    .dataframe tbody tr th {\n",
       "        vertical-align: top;\n",
       "    }\n",
       "\n",
       "    .dataframe thead th {\n",
       "        text-align: right;\n",
       "    }\n",
       "</style>\n",
       "<table border=\"1\" class=\"dataframe\">\n",
       "  <thead>\n",
       "    <tr style=\"text-align: right;\">\n",
       "      <th></th>\n",
       "      <th>Transaction ID</th>\n",
       "      <th>Item</th>\n",
       "      <th>Quantity</th>\n",
       "      <th>Price Per Unit</th>\n",
       "      <th>Total Spent</th>\n",
       "      <th>Payment Method</th>\n",
       "      <th>Location</th>\n",
       "      <th>Transaction Date</th>\n",
       "    </tr>\n",
       "  </thead>\n",
       "  <tbody>\n",
       "    <tr>\n",
       "      <th>11</th>\n",
       "      <td>TXN_3051279</td>\n",
       "      <td>Sandwich</td>\n",
       "      <td>2.0</td>\n",
       "      <td>4.0</td>\n",
       "      <td>8.0</td>\n",
       "      <td>Credit Card</td>\n",
       "      <td>Takeaway</td>\n",
       "      <td>Unknown</td>\n",
       "    </tr>\n",
       "    <tr>\n",
       "      <th>29</th>\n",
       "      <td>TXN_7640952</td>\n",
       "      <td>Cake</td>\n",
       "      <td>4.0</td>\n",
       "      <td>3.0</td>\n",
       "      <td>12.0</td>\n",
       "      <td>Digital Wallet</td>\n",
       "      <td>Takeaway</td>\n",
       "      <td>Unknown</td>\n",
       "    </tr>\n",
       "    <tr>\n",
       "      <th>33</th>\n",
       "      <td>TXN_7710508</td>\n",
       "      <td>Cookie</td>\n",
       "      <td>5.0</td>\n",
       "      <td>1.0</td>\n",
       "      <td>5.0</td>\n",
       "      <td>Cash</td>\n",
       "      <td>Unknown</td>\n",
       "      <td>Unknown</td>\n",
       "    </tr>\n",
       "    <tr>\n",
       "      <th>77</th>\n",
       "      <td>TXN_2091733</td>\n",
       "      <td>Salad</td>\n",
       "      <td>1.0</td>\n",
       "      <td>5.0</td>\n",
       "      <td>5.0</td>\n",
       "      <td>Unknown</td>\n",
       "      <td>In-Store</td>\n",
       "      <td>Unknown</td>\n",
       "    </tr>\n",
       "    <tr>\n",
       "      <th>103</th>\n",
       "      <td>TXN_7028009</td>\n",
       "      <td>Cake</td>\n",
       "      <td>4.0</td>\n",
       "      <td>3.0</td>\n",
       "      <td>12.0</td>\n",
       "      <td>Unknown</td>\n",
       "      <td>Takeaway</td>\n",
       "      <td>Unknown</td>\n",
       "    </tr>\n",
       "    <tr>\n",
       "      <th>...</th>\n",
       "      <td>...</td>\n",
       "      <td>...</td>\n",
       "      <td>...</td>\n",
       "      <td>...</td>\n",
       "      <td>...</td>\n",
       "      <td>...</td>\n",
       "      <td>...</td>\n",
       "      <td>...</td>\n",
       "    </tr>\n",
       "    <tr>\n",
       "      <th>9933</th>\n",
       "      <td>TXN_9460419</td>\n",
       "      <td>Cake</td>\n",
       "      <td>1.0</td>\n",
       "      <td>3.0</td>\n",
       "      <td>3.0</td>\n",
       "      <td>Unknown</td>\n",
       "      <td>Takeaway</td>\n",
       "      <td>Unknown</td>\n",
       "    </tr>\n",
       "    <tr>\n",
       "      <th>9937</th>\n",
       "      <td>TXN_8253472</td>\n",
       "      <td>Cake</td>\n",
       "      <td>1.0</td>\n",
       "      <td>3.0</td>\n",
       "      <td>3.0</td>\n",
       "      <td>Unknown</td>\n",
       "      <td>Unknown</td>\n",
       "      <td>Unknown</td>\n",
       "    </tr>\n",
       "    <tr>\n",
       "      <th>9949</th>\n",
       "      <td>TXN_3130865</td>\n",
       "      <td>Juice</td>\n",
       "      <td>3.0</td>\n",
       "      <td>3.0</td>\n",
       "      <td>9.0</td>\n",
       "      <td>Unknown</td>\n",
       "      <td>In-Store</td>\n",
       "      <td>Unknown</td>\n",
       "    </tr>\n",
       "    <tr>\n",
       "      <th>9983</th>\n",
       "      <td>TXN_9226047</td>\n",
       "      <td>Smoothie</td>\n",
       "      <td>3.0</td>\n",
       "      <td>4.0</td>\n",
       "      <td>12.0</td>\n",
       "      <td>Cash</td>\n",
       "      <td>Unknown</td>\n",
       "      <td>Unknown</td>\n",
       "    </tr>\n",
       "    <tr>\n",
       "      <th>9988</th>\n",
       "      <td>TXN_9594133</td>\n",
       "      <td>Cake</td>\n",
       "      <td>5.0</td>\n",
       "      <td>3.0</td>\n",
       "      <td>15.0</td>\n",
       "      <td>Unknown</td>\n",
       "      <td>Unknown</td>\n",
       "      <td>Unknown</td>\n",
       "    </tr>\n",
       "  </tbody>\n",
       "</table>\n",
       "<p>460 rows × 8 columns</p>\n",
       "</div>"
      ],
      "text/plain": [
       "     Transaction ID      Item Quantity Price Per Unit Total Spent  \\\n",
       "11      TXN_3051279  Sandwich      2.0            4.0         8.0   \n",
       "29      TXN_7640952      Cake      4.0            3.0        12.0   \n",
       "33      TXN_7710508    Cookie      5.0            1.0         5.0   \n",
       "77      TXN_2091733     Salad      1.0            5.0         5.0   \n",
       "103     TXN_7028009      Cake      4.0            3.0        12.0   \n",
       "...             ...       ...      ...            ...         ...   \n",
       "9933    TXN_9460419      Cake      1.0            3.0         3.0   \n",
       "9937    TXN_8253472      Cake      1.0            3.0         3.0   \n",
       "9949    TXN_3130865     Juice      3.0            3.0         9.0   \n",
       "9983    TXN_9226047  Smoothie      3.0            4.0        12.0   \n",
       "9988    TXN_9594133      Cake      5.0            3.0        15.0   \n",
       "\n",
       "      Payment Method  Location Transaction Date  \n",
       "11       Credit Card  Takeaway          Unknown  \n",
       "29    Digital Wallet  Takeaway          Unknown  \n",
       "33              Cash   Unknown          Unknown  \n",
       "77           Unknown  In-Store          Unknown  \n",
       "103          Unknown  Takeaway          Unknown  \n",
       "...              ...       ...              ...  \n",
       "9933         Unknown  Takeaway          Unknown  \n",
       "9937         Unknown   Unknown          Unknown  \n",
       "9949         Unknown  In-Store          Unknown  \n",
       "9983            Cash   Unknown          Unknown  \n",
       "9988         Unknown   Unknown          Unknown  \n",
       "\n",
       "[460 rows x 8 columns]"
      ]
     },
     "execution_count": 911,
     "metadata": {},
     "output_type": "execute_result"
    }
   ],
   "source": [
    "# Filters the DataFrame to identify rows where 'Transaction Date' is labeled as 'Unknown'\n",
    "cafe[cafe['Transaction Date'] == 'Unknown']\n",
    "\n",
    "# While a significant number of transactions lack a recorded Transaction Date, these rows still offer valuable insights and should be retained.\n",
    "# To enhance data accuracy, tracing through 'Transaction ID' should be conductd to determine the actual date for each of the 460 transactions."
   ]
  },
  {
   "cell_type": "markdown",
   "id": "c071d15d-5eaa-4d48-a535-f3c095bcbcfc",
   "metadata": {},
   "source": [
    "### FINAL OVERVIEW"
   ]
  },
  {
   "cell_type": "code",
   "execution_count": 867,
   "id": "301da881-34a3-49c4-8195-2ccafd948701",
   "metadata": {},
   "outputs": [
    {
     "name": "stdout",
     "output_type": "stream",
     "text": [
      "<class 'pandas.core.frame.DataFrame'>\n",
      "RangeIndex: 10000 entries, 0 to 9999\n",
      "Data columns (total 8 columns):\n",
      " #   Column            Non-Null Count  Dtype  \n",
      "---  ------            --------------  -----  \n",
      " 0   Transaction ID    10000 non-null  object \n",
      " 1   Item              10000 non-null  object \n",
      " 2   Quantity          9977 non-null   float64\n",
      " 3   Price Per Unit    9994 non-null   float64\n",
      " 4   Total Spent       9977 non-null   float64\n",
      " 5   Payment Method    10000 non-null  object \n",
      " 6   Location          10000 non-null  object \n",
      " 7   Transaction Date  10000 non-null  object \n",
      "dtypes: float64(3), object(5)\n",
      "memory usage: 625.1+ KB\n"
     ]
    }
   ],
   "source": [
    "# Provides a summary of the DataFrame\n",
    "cafe.info()"
   ]
  },
  {
   "cell_type": "code",
   "execution_count": 869,
   "id": "913c3bd0-2eb8-4c64-80ba-501120020b6c",
   "metadata": {},
   "outputs": [],
   "source": [
    "# Replaces NaN values in the column 'Price Per Unit' with the placeholder 'Unknown'\n",
    "cafe['Price Per Unit'] = cafe['Price Per Unit'].fillna('Unknown')"
   ]
  },
  {
   "cell_type": "code",
   "execution_count": 871,
   "id": "bb2edf37-dc40-41ff-97b1-9f91cd9a6f3b",
   "metadata": {},
   "outputs": [],
   "source": [
    "# Replaces NaN values in the column 'Quantity' with the placeholder 'Unknown'\n",
    "cafe['Quantity'] = cafe['Quantity'].fillna('Unknown')"
   ]
  },
  {
   "cell_type": "code",
   "execution_count": 873,
   "id": "716a755e-ee0b-4106-9711-cf26e41397d2",
   "metadata": {},
   "outputs": [],
   "source": [
    "# Replaces NaN values in the column 'Total Spent' with the placeholder 'Unknown'\n",
    "cafe['Total Spent'] = cafe['Total Spent'].fillna('Unknown')"
   ]
  },
  {
   "cell_type": "code",
   "execution_count": 875,
   "id": "95a920db-c9a6-4111-83f8-4919fe53ec97",
   "metadata": {},
   "outputs": [
    {
     "name": "stdout",
     "output_type": "stream",
     "text": [
      "<class 'pandas.core.frame.DataFrame'>\n",
      "RangeIndex: 10000 entries, 0 to 9999\n",
      "Data columns (total 8 columns):\n",
      " #   Column            Non-Null Count  Dtype \n",
      "---  ------            --------------  ----- \n",
      " 0   Transaction ID    10000 non-null  object\n",
      " 1   Item              10000 non-null  object\n",
      " 2   Quantity          10000 non-null  object\n",
      " 3   Price Per Unit    10000 non-null  object\n",
      " 4   Total Spent       10000 non-null  object\n",
      " 5   Payment Method    10000 non-null  object\n",
      " 6   Location          10000 non-null  object\n",
      " 7   Transaction Date  10000 non-null  object\n",
      "dtypes: object(8)\n",
      "memory usage: 625.1+ KB\n"
     ]
    }
   ],
   "source": [
    "# Provides a summary of the DataFrame\n",
    "cafe.info()"
   ]
  },
  {
   "cell_type": "code",
   "execution_count": 877,
   "id": "98899349-8449-470c-b3c5-9e7dc39c3f7f",
   "metadata": {},
   "outputs": [
    {
     "data": {
      "text/plain": [
       "7657"
      ]
     },
     "execution_count": 877,
     "metadata": {},
     "output_type": "execute_result"
    }
   ],
   "source": [
    "# Counts the total occurrences of 'Unknown' across the specified columns\n",
    "(cafe[['Item', 'Quantity', 'Price Per Unit', 'Total Spent', 'Payment Method', 'Location', 'Transaction Date']].isin(['Unknown']).sum().sum())"
   ]
  },
  {
   "cell_type": "code",
   "execution_count": 879,
   "id": "c4668292-44a1-4e7b-b991-c4c2c79f30a5",
   "metadata": {},
   "outputs": [
    {
     "data": {
      "text/plain": [
       "6"
      ]
     },
     "execution_count": 879,
     "metadata": {},
     "output_type": "execute_result"
    }
   ],
   "source": [
    "# Counts the total number of 'Unknown' values in the 'Item' column \n",
    "cafe[cafe['Item'] == 'Unknown'].shape[0]"
   ]
  },
  {
   "cell_type": "code",
   "execution_count": 881,
   "id": "110180e0-515f-4040-9f83-b55435d60f79",
   "metadata": {},
   "outputs": [
    {
     "data": {
      "text/plain": [
       "23"
      ]
     },
     "execution_count": 881,
     "metadata": {},
     "output_type": "execute_result"
    }
   ],
   "source": [
    "# Counts the total number of 'Unknown' values in the 'Quantity' column \n",
    "cafe[cafe['Quantity'] == 'Unknown'].shape[0]"
   ]
  },
  {
   "cell_type": "code",
   "execution_count": 883,
   "id": "f032fd69-32c1-46f3-9efe-bbbdb5ff22e2",
   "metadata": {},
   "outputs": [
    {
     "data": {
      "text/plain": [
       "6"
      ]
     },
     "execution_count": 883,
     "metadata": {},
     "output_type": "execute_result"
    }
   ],
   "source": [
    "# Counts the total number of 'Unknown' values in the 'Price Per Unit' column \n",
    "cafe[cafe['Price Per Unit'] == 'Unknown'].shape[0]"
   ]
  },
  {
   "cell_type": "code",
   "execution_count": 885,
   "id": "c677659f-c3d2-4db1-903c-190fb6677787",
   "metadata": {},
   "outputs": [
    {
     "data": {
      "text/plain": [
       "23"
      ]
     },
     "execution_count": 885,
     "metadata": {},
     "output_type": "execute_result"
    }
   ],
   "source": [
    "# Counts the total number of 'Unknown' values in the 'Total Spent' column \n",
    "cafe[cafe['Total Spent'] == 'Unknown'].shape[0]"
   ]
  },
  {
   "cell_type": "code",
   "execution_count": 887,
   "id": "93f9d16a-1df5-49f5-a564-961f2211c0f5",
   "metadata": {},
   "outputs": [
    {
     "data": {
      "text/plain": [
       "3178"
      ]
     },
     "execution_count": 887,
     "metadata": {},
     "output_type": "execute_result"
    }
   ],
   "source": [
    "# Counts the total number of 'Unknown' values in the 'Payment Method' column \n",
    "cafe[cafe['Payment Method'] == 'Unknown'].shape[0]"
   ]
  },
  {
   "cell_type": "code",
   "execution_count": 889,
   "id": "9e9dcb2a-44d1-417a-a9a0-f25b005612ec",
   "metadata": {},
   "outputs": [
    {
     "data": {
      "text/plain": [
       "3961"
      ]
     },
     "execution_count": 889,
     "metadata": {},
     "output_type": "execute_result"
    }
   ],
   "source": [
    "# Counts the total number of 'Unknown' values in the 'Location' column \n",
    "cafe[cafe['Location'] == 'Unknown'].shape[0]"
   ]
  },
  {
   "cell_type": "code",
   "execution_count": 893,
   "id": "1580c7e3-9ec7-4d45-a99a-bec21c0bfbf2",
   "metadata": {},
   "outputs": [
    {
     "data": {
      "text/plain": [
       "460"
      ]
     },
     "execution_count": 893,
     "metadata": {},
     "output_type": "execute_result"
    }
   ],
   "source": [
    "# Counts the total number of 'Unknown' values in the 'Transaction Date' column \n",
    "cafe[cafe['Transaction Date'] == 'Unknown'].shape[0]"
   ]
  },
  {
   "cell_type": "code",
   "execution_count": 915,
   "id": "e1fa6bec-bfd5-4127-826b-19881eea95e6",
   "metadata": {},
   "outputs": [
    {
     "data": {
      "text/html": [
       "<div>\n",
       "<style scoped>\n",
       "    .dataframe tbody tr th:only-of-type {\n",
       "        vertical-align: middle;\n",
       "    }\n",
       "\n",
       "    .dataframe tbody tr th {\n",
       "        vertical-align: top;\n",
       "    }\n",
       "\n",
       "    .dataframe thead th {\n",
       "        text-align: right;\n",
       "    }\n",
       "</style>\n",
       "<table border=\"1\" class=\"dataframe\">\n",
       "  <thead>\n",
       "    <tr style=\"text-align: right;\">\n",
       "      <th></th>\n",
       "      <th>Transaction ID</th>\n",
       "      <th>Item</th>\n",
       "      <th>Quantity</th>\n",
       "      <th>Price Per Unit</th>\n",
       "      <th>Total Spent</th>\n",
       "      <th>Payment Method</th>\n",
       "      <th>Location</th>\n",
       "      <th>Transaction Date</th>\n",
       "    </tr>\n",
       "  </thead>\n",
       "  <tbody>\n",
       "    <tr>\n",
       "      <th>0</th>\n",
       "      <td>TXN_1961373</td>\n",
       "      <td>Coffee</td>\n",
       "      <td>2.0</td>\n",
       "      <td>2.0</td>\n",
       "      <td>4.0</td>\n",
       "      <td>Credit Card</td>\n",
       "      <td>Takeaway</td>\n",
       "      <td>2023-09-08</td>\n",
       "    </tr>\n",
       "    <tr>\n",
       "      <th>1</th>\n",
       "      <td>TXN_4977031</td>\n",
       "      <td>Cake</td>\n",
       "      <td>4.0</td>\n",
       "      <td>3.0</td>\n",
       "      <td>12.0</td>\n",
       "      <td>Cash</td>\n",
       "      <td>In-Store</td>\n",
       "      <td>2023-05-16</td>\n",
       "    </tr>\n",
       "    <tr>\n",
       "      <th>2</th>\n",
       "      <td>TXN_4271903</td>\n",
       "      <td>Cookie</td>\n",
       "      <td>4.0</td>\n",
       "      <td>1.0</td>\n",
       "      <td>4.0</td>\n",
       "      <td>Credit Card</td>\n",
       "      <td>In-Store</td>\n",
       "      <td>2023-07-19</td>\n",
       "    </tr>\n",
       "    <tr>\n",
       "      <th>3</th>\n",
       "      <td>TXN_7034554</td>\n",
       "      <td>Salad</td>\n",
       "      <td>2.0</td>\n",
       "      <td>5.0</td>\n",
       "      <td>10.0</td>\n",
       "      <td>Unknown</td>\n",
       "      <td>Unknown</td>\n",
       "      <td>2023-04-27</td>\n",
       "    </tr>\n",
       "    <tr>\n",
       "      <th>4</th>\n",
       "      <td>TXN_3160411</td>\n",
       "      <td>Coffee</td>\n",
       "      <td>2.0</td>\n",
       "      <td>2.0</td>\n",
       "      <td>4.0</td>\n",
       "      <td>Digital Wallet</td>\n",
       "      <td>In-Store</td>\n",
       "      <td>2023-06-11</td>\n",
       "    </tr>\n",
       "    <tr>\n",
       "      <th>...</th>\n",
       "      <td>...</td>\n",
       "      <td>...</td>\n",
       "      <td>...</td>\n",
       "      <td>...</td>\n",
       "      <td>...</td>\n",
       "      <td>...</td>\n",
       "      <td>...</td>\n",
       "      <td>...</td>\n",
       "    </tr>\n",
       "    <tr>\n",
       "      <th>9995</th>\n",
       "      <td>TXN_7672686</td>\n",
       "      <td>Coffee</td>\n",
       "      <td>2.0</td>\n",
       "      <td>2.0</td>\n",
       "      <td>4.0</td>\n",
       "      <td>Unknown</td>\n",
       "      <td>Unknown</td>\n",
       "      <td>2023-08-30</td>\n",
       "    </tr>\n",
       "    <tr>\n",
       "      <th>9996</th>\n",
       "      <td>TXN_9659401</td>\n",
       "      <td>Cookie</td>\n",
       "      <td>3.0</td>\n",
       "      <td>1.0</td>\n",
       "      <td>3.0</td>\n",
       "      <td>Digital Wallet</td>\n",
       "      <td>Unknown</td>\n",
       "      <td>2023-06-02</td>\n",
       "    </tr>\n",
       "    <tr>\n",
       "      <th>9997</th>\n",
       "      <td>TXN_5255387</td>\n",
       "      <td>Coffee</td>\n",
       "      <td>4.0</td>\n",
       "      <td>2.0</td>\n",
       "      <td>8.0</td>\n",
       "      <td>Digital Wallet</td>\n",
       "      <td>Unknown</td>\n",
       "      <td>2023-03-02</td>\n",
       "    </tr>\n",
       "    <tr>\n",
       "      <th>9998</th>\n",
       "      <td>TXN_7695629</td>\n",
       "      <td>Cookie</td>\n",
       "      <td>3.0</td>\n",
       "      <td>1.0</td>\n",
       "      <td>3.0</td>\n",
       "      <td>Digital Wallet</td>\n",
       "      <td>Unknown</td>\n",
       "      <td>2023-12-02</td>\n",
       "    </tr>\n",
       "    <tr>\n",
       "      <th>9999</th>\n",
       "      <td>TXN_6170729</td>\n",
       "      <td>Sandwich</td>\n",
       "      <td>3.0</td>\n",
       "      <td>4.0</td>\n",
       "      <td>12.0</td>\n",
       "      <td>Cash</td>\n",
       "      <td>In-Store</td>\n",
       "      <td>2023-11-07</td>\n",
       "    </tr>\n",
       "  </tbody>\n",
       "</table>\n",
       "<p>10000 rows × 8 columns</p>\n",
       "</div>"
      ],
      "text/plain": [
       "     Transaction ID      Item Quantity Price Per Unit Total Spent  \\\n",
       "0       TXN_1961373    Coffee      2.0            2.0         4.0   \n",
       "1       TXN_4977031      Cake      4.0            3.0        12.0   \n",
       "2       TXN_4271903    Cookie      4.0            1.0         4.0   \n",
       "3       TXN_7034554     Salad      2.0            5.0        10.0   \n",
       "4       TXN_3160411    Coffee      2.0            2.0         4.0   \n",
       "...             ...       ...      ...            ...         ...   \n",
       "9995    TXN_7672686    Coffee      2.0            2.0         4.0   \n",
       "9996    TXN_9659401    Cookie      3.0            1.0         3.0   \n",
       "9997    TXN_5255387    Coffee      4.0            2.0         8.0   \n",
       "9998    TXN_7695629    Cookie      3.0            1.0         3.0   \n",
       "9999    TXN_6170729  Sandwich      3.0            4.0        12.0   \n",
       "\n",
       "      Payment Method  Location Transaction Date  \n",
       "0        Credit Card  Takeaway       2023-09-08  \n",
       "1               Cash  In-Store       2023-05-16  \n",
       "2        Credit Card  In-Store       2023-07-19  \n",
       "3            Unknown   Unknown       2023-04-27  \n",
       "4     Digital Wallet  In-Store       2023-06-11  \n",
       "...              ...       ...              ...  \n",
       "9995         Unknown   Unknown       2023-08-30  \n",
       "9996  Digital Wallet   Unknown       2023-06-02  \n",
       "9997  Digital Wallet   Unknown       2023-03-02  \n",
       "9998  Digital Wallet   Unknown       2023-12-02  \n",
       "9999            Cash  In-Store       2023-11-07  \n",
       "\n",
       "[10000 rows x 8 columns]"
      ]
     },
     "execution_count": 915,
     "metadata": {},
     "output_type": "execute_result"
    }
   ],
   "source": [
    "# Displays the DataFrame\n",
    "cafe"
   ]
  },
  {
   "cell_type": "code",
   "execution_count": null,
   "id": "4af8096e-c91c-44a0-99b1-ea8db1be5e40",
   "metadata": {},
   "outputs": [],
   "source": []
  }
 ],
 "metadata": {
  "kernelspec": {
   "display_name": "Python 3 (ipykernel)",
   "language": "python",
   "name": "python3"
  },
  "language_info": {
   "codemirror_mode": {
    "name": "ipython",
    "version": 3
   },
   "file_extension": ".py",
   "mimetype": "text/x-python",
   "name": "python",
   "nbconvert_exporter": "python",
   "pygments_lexer": "ipython3",
   "version": "3.11.7"
  }
 },
 "nbformat": 4,
 "nbformat_minor": 5
}
